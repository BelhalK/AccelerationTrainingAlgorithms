{
 "cells": [
  {
   "cell_type": "code",
   "execution_count": 1,
   "metadata": {},
   "outputs": [
    {
     "name": "stderr",
     "output_type": "stream",
     "text": [
      "/Users/karimimohammedbelhal/Desktop/ongoing/hostnfly/deeptech/lib/python2.7/site-packages/matplotlib/__init__.py:1405: UserWarning: \n",
      "This call to matplotlib.use() has no effect because the backend has already\n",
      "been chosen; matplotlib.use() must be called *before* pylab, matplotlib.pyplot,\n",
      "or matplotlib.backends is imported for the first time.\n",
      "\n",
      "  warnings.warn(_use_error_msg)\n",
      "/Users/karimimohammedbelhal/Desktop/ongoing/hostnfly/deeptech/lib/python2.7/site-packages/h5py/__init__.py:36: FutureWarning: Conversion of the second argument of issubdtype from `float` to `np.floating` is deprecated. In future, it will be treated as `np.float64 == np.dtype(float).type`.\n",
      "  from ._conv import register_converters as _register_converters\n"
     ]
    },
    {
     "data": {
      "text/plain": [
       "['/Users/karimimohammedbelhal/Desktop/ongoing/hostnfly/deeptech/lib/python2.7/site-packages/ipykernel_launcher.py',\n",
       " '-f',\n",
       " '/Users/karimimohammedbelhal/Library/Jupyter/runtime/kernel-36c96fa2-4a11-4c26-a5aa-d053ab37fe50.json']"
      ]
     },
     "execution_count": 1,
     "metadata": {},
     "output_type": "execute_result"
    }
   ],
   "source": [
    "from __future__ import absolute_import\n",
    "from __future__ import division\n",
    "from __future__ import print_function\n",
    "\n",
    "import pickle\n",
    "import os\n",
    "import warnings\n",
    "import matplotlib.pyplot as plt\n",
    "# Dependency imports\n",
    "from absl import flags\n",
    "import matplotlib\n",
    "%matplotlib inline\n",
    "matplotlib.use(\"Agg\")\n",
    "from matplotlib import figure  # pylint: disable=g-import-not-at-top\n",
    "from matplotlib.backends import backend_agg\n",
    "import numpy as np\n",
    "import tensorflow as tf\n",
    "import tensorflow_probability as tfp\n",
    "\n",
    "from tensorflow.contrib.learn.python.learn.datasets import mnist\n",
    "\n",
    "# TODO(b/78137893): Integration tests currently fail with seaborn imports.\n",
    "warnings.simplefilter(action=\"ignore\")\n",
    "\n",
    "try:\n",
    "  import seaborn as sns  # pylint: disable=g-import-not-at-top\n",
    "  HAS_SEABORN = True\n",
    "except ImportError:\n",
    "  HAS_SEABORN = False\n",
    "\n",
    "tfd = tfp.distributions\n",
    "\n",
    "IMAGE_SHAPE = [28, 28, 1]\n",
    "\n",
    "flags.DEFINE_float(\"learning_rate\",\n",
    "                   default=0.001,\n",
    "                   help=\"Initial learning rate.\")\n",
    "flags.DEFINE_integer(\"max_steps\",\n",
    "                     default=1000,\n",
    "                     help=\"Number of training steps to run.\")\n",
    "flags.DEFINE_integer(\"batch_size\",\n",
    "                     default=128,\n",
    "                    help=\"Batch size.\")\n",
    "\n",
    "#flags.DEFINE_integer(\"batch_size\",\n",
    "#                     default=1024,\n",
    "#                     help=\"Batch size.\")\n",
    "\n",
    "\n",
    "flags.DEFINE_string(\"data_dir\",\n",
    "                    default=os.path.join(os.getenv(\"TEST_TMPDIR\", \"/tmp\"),\n",
    "                                         \"bayesian_neural_network/data\"),\n",
    "                    help=\"Directory where data is stored (if using real data).\")\n",
    "flags.DEFINE_string(\n",
    "    \"model_dir\",\n",
    "    default=os.path.join(os.getenv(\"TEST_TMPDIR\", \"/tmp\"),\n",
    "                         \"bayesian_neural_network/\"),\n",
    "    help=\"Directory to put the model's fit.\")\n",
    "flags.DEFINE_integer(\"viz_steps\",\n",
    "                     default=100,\n",
    "                     help=\"Frequency at which save visualizations.\")\n",
    "flags.DEFINE_integer(\"num_monte_carlo\",\n",
    "                     default=50,\n",
    "                     help=\"Network draws to compute predictive probabilities.\")\n",
    "flags.DEFINE_bool(\"fake_data\",\n",
    "                  default=None,\n",
    "                  help=\"If true, uses fake data. Defaults to real data.\")\n",
    "\n",
    "flags.DEFINE_integer(\n",
    "    \"mixture_components\",\n",
    "    default=10,\n",
    "    help=\"Number of mixture components to use in the prior. Each component is \"\n",
    "         \"a diagonal normal distribution. The parameters of the components are \"\n",
    "         \"intialized randomly, and then learned along with the rest of the \"\n",
    "         \"parameters. If `analytic_kl` is True, `mixture_components` must be \"\n",
    "         \"set to `1`.\")\n",
    "flags.DEFINE_bool(\n",
    "    \"analytic_kl\",\n",
    "    default=False,\n",
    "    help=\"Whether or not to use the analytic version of the KL. When set to \"\n",
    "         \"False the E_{Z~q(Z|X)}[log p(Z)p(X|Z) - log q(Z|X)] form of the ELBO \"\n",
    "         \"will be used. Otherwise the -KL(q(Z|X) || p(Z)) + \"\n",
    "         \"E_{Z~q(Z|X)}[log p(X|Z)] form will be used. If analytic_kl is True, \"\n",
    "         \"then you must also specify `mixture_components=1`.\")\n",
    "\n",
    "FLAGS = flags.FLAGS\n",
    "import sys\n",
    "FLAGS(sys.argv, known_only=True)"
   ]
  },
  {
   "cell_type": "code",
   "execution_count": 20,
   "metadata": {},
   "outputs": [],
   "source": [
    "def plot_weight_posteriors(names, qm_vals, qs_vals, fname):\n",
    "  \"\"\"Save a PNG plot with histograms of weight means and stddevs.\n",
    "  Args:\n",
    "    names: A Python `iterable` of `str` variable names.\n",
    "    qm_vals: A Python `iterable`, the same length as `names`,\n",
    "      whose elements are Numpy `array`s, of any shape, containing\n",
    "      posterior means of weight varibles.\n",
    "    qs_vals: A Python `iterable`, the same length as `names`,\n",
    "      whose elements are Numpy `array`s, of any shape, containing\n",
    "      posterior standard deviations of weight varibles.\n",
    "    fname: Python `str` filename to save the plot to.\n",
    "  \"\"\"\n",
    "  fig = figure.Figure(figsize=(6, 3))\n",
    "  canvas = backend_agg.FigureCanvasAgg(fig)\n",
    "\n",
    "  ax = fig.add_subplot(1, 2, 1)\n",
    "  for n, qm in zip(names, qm_vals):\n",
    "    sns.distplot(qm.flatten(), ax=ax, label=n)\n",
    "  ax.set_title(\"weight means\")\n",
    "  ax.set_xlim([-1.5, 1.5])\n",
    "  ax.legend()\n",
    "\n",
    "  ax = fig.add_subplot(1, 2, 2)\n",
    "  for n, qs in zip(names, qs_vals):\n",
    "    sns.distplot(qs.flatten(), ax=ax)\n",
    "  ax.set_title(\"weight stddevs\")\n",
    "  ax.set_xlim([0, 1.])\n",
    "\n",
    "  fig.tight_layout()\n",
    "  canvas.print_figure(fname, format=\"png\")\n",
    "  print(\"saved {}\".format(fname))\n",
    "\n",
    "\n",
    "def plot_heldout_prediction(input_vals, probs,\n",
    "                            fname, n=10, title=\"\"):\n",
    "    \"\"\"Save a PNG plot visualizing posterior uncertainty on heldout data.\n",
    "  Args:\n",
    "    input_vals: A `float`-like Numpy `array` of shape\n",
    "      `[num_heldout] + IMAGE_SHAPE`, containing heldout input images.\n",
    "    probs: A `float`-like Numpy array of shape `[num_monte_carlo,\n",
    "      num_heldout, num_classes]` containing Monte Carlo samples of\n",
    "      class probabilities for each heldout sample.\n",
    "    fname: Python `str` filename to save the plot to.\n",
    "    n: Python `int` number of datapoints to vizualize.\n",
    "    title: Python `str` title for the plot.\n",
    "  \"\"\"\n",
    "    fig = figure.Figure(figsize=(9, 3*n))\n",
    "    canvas = backend_agg.FigureCanvasAgg(fig)\n",
    "    for i in range(n):\n",
    "        ax = fig.add_subplot(n, 3, 3*i + 1)\n",
    "        ax.imshow(input_vals[i, :].reshape(IMAGE_SHAPE[:-1]), interpolation=\"None\")\n",
    "\n",
    "        ax = fig.add_subplot(n, 3, 3*i + 2)\n",
    "        for prob_sample in probs:\n",
    "            sns.barplot(np.arange(10), prob_sample[i, :], alpha=0.1, ax=ax)\n",
    "            ax.set_ylim([0, 1])\n",
    "            ax.set_title(\"posterior samples\")\n",
    "\n",
    "        ax = fig.add_subplot(n, 3, 3*i + 3)\n",
    "        sns.barplot(np.arange(10), np.mean(probs[:, i, :], axis=0), ax=ax)\n",
    "        ax.set_ylim([0, 1])\n",
    "        ax.set_title(\"predictive probs\")\n",
    "        \n",
    "    fig.suptitle(title)\n",
    "    fig.tight_layout()\n",
    "\n",
    "    canvas.print_figure(fname, format=\"png\")\n",
    "    print(\"saved {}\".format(fname))\n",
    "\n",
    "\n",
    "def build_input_pipeline(mnist_data, batch_size, heldout_size):\n",
    "    \"\"\"Build an Iterator switching between train and heldout data.\"\"\"\n",
    "\n",
    "    # Build an iterator over training batches.\n",
    "    training_dataset = tf.data.Dataset.from_tensor_slices(\n",
    "      (mnist_data.train.images, np.int32(mnist_data.train.labels)))\n",
    "    training_batches = training_dataset.shuffle(\n",
    "      50000, reshuffle_each_iteration=True).repeat().batch(batch_size)\n",
    "    training_iterator = training_batches.make_one_shot_iterator()\n",
    "\n",
    "    # Build a iterator over the heldout set with batch_size=heldout_size,\n",
    "    # i.e., return the entire heldout set as a constant.\n",
    "    heldout_dataset = tf.data.Dataset.from_tensor_slices(\n",
    "      (mnist_data.validation.images,\n",
    "       np.int32(mnist_data.validation.labels)))\n",
    "    heldout_frozen = (heldout_dataset.take(heldout_size).\n",
    "                    repeat().batch(heldout_size))\n",
    "    heldout_iterator = heldout_frozen.make_one_shot_iterator()\n",
    "\n",
    "    # Combine these into a feedable iterator that can switch between training\n",
    "    # and validation inputs.\n",
    "    handle = tf.placeholder(tf.string, shape=[])\n",
    "    feedable_iterator = tf.data.Iterator.from_string_handle(\n",
    "      handle, training_batches.output_types, training_batches.output_shapes)\n",
    "    images, labels = feedable_iterator.get_next()\n",
    "\n",
    "    return images, labels, handle, training_iterator, heldout_iterator\n",
    "\n",
    "\n",
    "def build_fake_data(num_examples=10):\n",
    "  \"\"\"Build fake MNIST-style data for unit testing.\"\"\"\n",
    "\n",
    "  class Dummy(object):\n",
    "    pass\n",
    "\n",
    "  num_examples = 10\n",
    "  mnist_data = Dummy()\n",
    "  mnist_data.train = Dummy()\n",
    "  mnist_data.train.images = np.float32(np.random.randn(\n",
    "      num_examples, *IMAGE_SHAPE))\n",
    "  mnist_data.train.labels = np.int32(np.random.permutation(\n",
    "      np.arange(num_examples)))\n",
    "  mnist_data.train.num_examples = num_examples\n",
    "  mnist_data.validation = Dummy()\n",
    "  mnist_data.validation.images = np.float32(np.random.randn(\n",
    "      num_examples, *IMAGE_SHAPE))\n",
    "  mnist_data.validation.labels = np.int32(np.random.permutation(\n",
    "      np.arange(num_examples)))\n",
    "  mnist_data.validation.num_examples = num_examples\n",
    "  return mnist_data\n"
   ]
  },
  {
   "cell_type": "code",
   "execution_count": 25,
   "metadata": {},
   "outputs": [
    {
     "data": {
      "text/plain": [
       "5500.0"
      ]
     },
     "execution_count": 25,
     "metadata": {},
     "output_type": "execute_result"
    }
   ],
   "source": [
    "mnist_data.train.num_examples/10"
   ]
  },
  {
   "cell_type": "code",
   "execution_count": 3,
   "metadata": {},
   "outputs": [
    {
     "name": "stdout",
     "output_type": "stream",
     "text": [
      "WARNING:tensorflow:From <ipython-input-3-7fe175c1efd8>:2: read_data_sets (from tensorflow.contrib.learn.python.learn.datasets.mnist) is deprecated and will be removed in a future version.\n",
      "Instructions for updating:\n",
      "Please use alternatives such as official/mnist/dataset.py from tensorflow/models.\n",
      "WARNING:tensorflow:From /Users/karimimohammedbelhal/Desktop/ongoing/hostnfly/deeptech/lib/python2.7/site-packages/tensorflow/contrib/learn/python/learn/datasets/mnist.py:260: maybe_download (from tensorflow.contrib.learn.python.learn.datasets.base) is deprecated and will be removed in a future version.\n",
      "Instructions for updating:\n",
      "Please write your own downloading logic.\n",
      "WARNING:tensorflow:From /Users/karimimohammedbelhal/Desktop/ongoing/hostnfly/deeptech/lib/python2.7/site-packages/tensorflow/contrib/learn/python/learn/datasets/base.py:252: wrapped_fn (from tensorflow.contrib.learn.python.learn.datasets.base) is deprecated and will be removed in a future version.\n",
      "Instructions for updating:\n",
      "Please use urllib or similar directly.\n",
      "Successfully downloaded train-images-idx3-ubyte.gz 9912422 bytes.\n",
      "WARNING:tensorflow:From /Users/karimimohammedbelhal/Desktop/ongoing/hostnfly/deeptech/lib/python2.7/site-packages/tensorflow/contrib/learn/python/learn/datasets/mnist.py:262: extract_images (from tensorflow.contrib.learn.python.learn.datasets.mnist) is deprecated and will be removed in a future version.\n",
      "Instructions for updating:\n",
      "Please use tf.data to implement this functionality.\n",
      "Extracting /tmp/bayesian_neural_network/data/train-images-idx3-ubyte.gz\n",
      "Successfully downloaded train-labels-idx1-ubyte.gz 28881 bytes.\n",
      "WARNING:tensorflow:From /Users/karimimohammedbelhal/Desktop/ongoing/hostnfly/deeptech/lib/python2.7/site-packages/tensorflow/contrib/learn/python/learn/datasets/mnist.py:267: extract_labels (from tensorflow.contrib.learn.python.learn.datasets.mnist) is deprecated and will be removed in a future version.\n",
      "Instructions for updating:\n",
      "Please use tf.data to implement this functionality.\n",
      "Extracting /tmp/bayesian_neural_network/data/train-labels-idx1-ubyte.gz\n",
      "Successfully downloaded t10k-images-idx3-ubyte.gz 1648877 bytes.\n",
      "Extracting /tmp/bayesian_neural_network/data/t10k-images-idx3-ubyte.gz\n",
      "Successfully downloaded t10k-labels-idx1-ubyte.gz 4542 bytes.\n",
      "Extracting /tmp/bayesian_neural_network/data/t10k-labels-idx1-ubyte.gz\n",
      "WARNING:tensorflow:From /Users/karimimohammedbelhal/Desktop/ongoing/hostnfly/deeptech/lib/python2.7/site-packages/tensorflow/contrib/learn/python/learn/datasets/mnist.py:290: __init__ (from tensorflow.contrib.learn.python.learn.datasets.mnist) is deprecated and will be removed in a future version.\n",
      "Instructions for updating:\n",
      "Please use alternatives such as official/mnist/dataset.py from tensorflow/models.\n"
     ]
    }
   ],
   "source": [
    "tf.gfile.MakeDirs(FLAGS.model_dir)\n",
    "mnist_data = mnist.read_data_sets(FLAGS.data_dir, reshape=False)"
   ]
  },
  {
   "cell_type": "code",
   "execution_count": 21,
   "metadata": {},
   "outputs": [
    {
     "data": {
      "text/plain": [
       "128"
      ]
     },
     "execution_count": 21,
     "metadata": {},
     "output_type": "execute_result"
    }
   ],
   "source": [
    "FLAGS.batch_size"
   ]
  },
  {
   "cell_type": "code",
   "execution_count": 4,
   "metadata": {},
   "outputs": [],
   "source": [
    "(images, labels, handle,\n",
    "   training_iterator, heldout_iterator) = build_input_pipeline(\n",
    "       mnist_data, FLAGS.batch_size, mnist_data.validation.num_examples)"
   ]
  },
  {
   "cell_type": "markdown",
   "metadata": {},
   "source": [
    "with tf.name_scope(\"bayesian_neural_net\", values=[images]):\n",
    "    neural_net = tf.keras.Sequential([\n",
    "        tfp.layers.Convolution2DFlipout(6,\n",
    "                                        kernel_size=5,\n",
    "                                        padding=\"SAME\",\n",
    "                                        activation=tf.nn.relu),\n",
    "        tf.keras.layers.MaxPooling2D(pool_size=[2, 2],\n",
    "                                     strides=[2, 2],\n",
    "                                     padding=\"SAME\"),\n",
    "        tfp.layers.Convolution2DFlipout(16,\n",
    "                                        kernel_size=5,\n",
    "                                        padding=\"SAME\",\n",
    "                                        activation=tf.nn.relu),\n",
    "        tf.keras.layers.MaxPooling2D(pool_size=[2, 2],\n",
    "                                     strides=[2, 2],\n",
    "                                     padding=\"SAME\"),\n",
    "        tfp.layers.Convolution2DFlipout(120,\n",
    "                                        kernel_size=5,\n",
    "                                        padding=\"SAME\",\n",
    "                                        activation=tf.nn.relu),\n",
    "        tf.keras.layers.Flatten(),\n",
    "        tfp.layers.DenseFlipout(84, activation=tf.nn.relu),\n",
    "        tfp.layers.DenseFlipout(10)\n",
    "        ])\n",
    "\n",
    "    logits = neural_net(images)\n",
    "    labels_distribution = tfd.Categorical(logits=logits)\n"
   ]
  },
  {
   "cell_type": "markdown",
   "metadata": {},
   "source": [
    "### Flipout MC estimator"
   ]
  },
  {
   "cell_type": "code",
   "execution_count": null,
   "metadata": {
    "collapsed": true
   },
   "outputs": [],
   "source": [
    "with tf.name_scope(\"bayesian_neural_net\", values=[images]):\n",
    "    neural_net = tf.keras.Sequential([\n",
    "        tfp.layers.Convolution2DFlipout(6,\n",
    "                                        kernel_size=5,\n",
    "                                        padding=\"SAME\",\n",
    "                                        activation=tf.nn.relu),\n",
    "        tf.keras.layers.MaxPooling2D(pool_size=[2, 2],\n",
    "                                     strides=[2, 2],\n",
    "                                     padding=\"SAME\"),\n",
    "        tf.keras.layers.Flatten(),\n",
    "        tfp.layers.DenseFlipout(84, activation=tf.nn.relu),\n",
    "        tfp.layers.DenseFlipout(10)\n",
    "        ])\n",
    "\n",
    "    logits = neural_net(images)\n",
    "    labels_distribution = tfd.Categorical(logits=logits)"
   ]
  },
  {
   "cell_type": "markdown",
   "metadata": {},
   "source": [
    "### Reparametrization trick Estimator (BBB)"
   ]
  },
  {
   "cell_type": "code",
   "execution_count": 5,
   "metadata": {},
   "outputs": [],
   "source": [
    "with tf.name_scope(\"bayesian_neural_net\", values=[images]):\n",
    "    neural_net = tf.keras.Sequential([\n",
    "        tfp.layers.Convolution2DReparameterization(6,\n",
    "                                        kernel_size=5,\n",
    "                                        padding=\"SAME\",\n",
    "                                        activation=tf.nn.relu),\n",
    "        tf.keras.layers.MaxPooling2D(pool_size=[2, 2],\n",
    "                                     strides=[2, 2],\n",
    "                                     padding=\"SAME\"),\n",
    "        tf.keras.layers.Flatten(),\n",
    "        tfp.layers.DenseReparameterization(84, activation=tf.nn.relu),\n",
    "        tfp.layers.DenseReparameterization(10)\n",
    "        ])\n",
    "\n",
    "    logits = neural_net(images)\n",
    "    labels_distribution = tfd.Categorical(logits=logits)"
   ]
  },
  {
   "cell_type": "code",
   "execution_count": 8,
   "metadata": {},
   "outputs": [],
   "source": [
    "neg_log_likelihood = -tf.reduce_mean(labels_distribution.log_prob(labels))\n",
    "kl = sum(neural_net.losses) / mnist_data.train.num_examples\n",
    "elbo_loss = neg_log_likelihood + kl"
   ]
  },
  {
   "cell_type": "markdown",
   "metadata": {},
   "source": [
    "## ELBO Loss computed using more Monte Carlo Samples"
   ]
  },
  {
   "cell_type": "code",
   "execution_count": 7,
   "metadata": {},
   "outputs": [],
   "source": [
    "elbo_loss = 0.\n",
    "#num_samples = number of monte carlo samples\n",
    "num_samples = 10\n",
    "for i in range(num_samples):\n",
    "    logits = neural_net(images)\n",
    "    labels_distribution = tfd.Categorical(logits=logits)\n",
    "\n",
    "    #Loss\n",
    "    neg_log_likelihood = -tf.reduce_mean(labels_distribution.log_prob(labels))\n",
    "    kl = sum(neural_net.losses) / mnist_data.train.num_examples\n",
    "    elbo_loss += neg_log_likelihood + kl\n",
    "\n",
    "elbo_loss /= num_samples\n"
   ]
  },
  {
   "cell_type": "code",
   "execution_count": 8,
   "metadata": {},
   "outputs": [
    {
     "data": {
      "text/plain": [
       "<tf.Tensor 'truediv_11:0' shape=() dtype=float32>"
      ]
     },
     "execution_count": 8,
     "metadata": {},
     "output_type": "execute_result"
    }
   ],
   "source": [
    "elbo_loss"
   ]
  },
  {
   "cell_type": "code",
   "execution_count": 9,
   "metadata": {},
   "outputs": [],
   "source": [
    "# Build metrics for evaluation. Predictions are formed from a single forward\n",
    "# pass of the probabilistic layers. They are cheap but noisy predictions.\n",
    "predictions = tf.argmax(logits, axis=1)\n",
    "accuracy, accuracy_update_op = tf.metrics.accuracy(\n",
    "      labels=labels, predictions=predictions)"
   ]
  },
  {
   "cell_type": "code",
   "execution_count": 26,
   "metadata": {},
   "outputs": [],
   "source": [
    "total = mnist_data.train.num_examples #number of training examples\n",
    "N = total/10   # number of images in a minibatch."
   ]
  },
  {
   "cell_type": "markdown",
   "metadata": {},
   "source": [
    "# ADAM"
   ]
  },
  {
   "cell_type": "code",
   "execution_count": 35,
   "metadata": {},
   "outputs": [],
   "source": [
    "names = []\n",
    "qmeans = []\n",
    "qstds = []\n",
    "for i, layer in enumerate(neural_net.layers):\n",
    "    try:\n",
    "        q = layer.kernel_posterior\n",
    "    except AttributeError:\n",
    "        continue\n",
    "    names.append(\"Layer {}\".format(i))\n",
    "    qmeans.append(q.mean())\n",
    "    qstds.append(q.stddev())\n",
    "\n",
    "with tf.name_scope(\"train\"):\n",
    "    optimizer = tf.train.AdamOptimizer(learning_rate=FLAGS.learning_rate)\n",
    "    train_op = optimizer.minimize(elbo_loss)\n",
    "\n",
    "init_op = tf.group(tf.global_variables_initializer(),\n",
    "                     tf.local_variables_initializer())"
   ]
  },
  {
   "cell_type": "code",
   "execution_count": 38,
   "metadata": {},
   "outputs": [],
   "source": [
    "epoch_num = 200"
   ]
  },
  {
   "cell_type": "code",
   "execution_count": 40,
   "metadata": {
    "scrolled": true
   },
   "outputs": [
    {
     "name": "stdout",
     "output_type": "stream",
     "text": [
      "Step:   0 Loss: 6.732 Accuracy: 0.159\n",
      "Step:   1 Loss: 6.599 Accuracy: 0.246\n",
      "Step:   2 Loss: 6.252 Accuracy: 0.315\n",
      "Step:   3 Loss: 5.906 Accuracy: 0.367\n",
      "Step:   4 Loss: 5.707 Accuracy: 0.423\n",
      "Step:   5 Loss: 5.662 Accuracy: 0.461\n",
      "Step:   6 Loss: 5.386 Accuracy: 0.495\n",
      "Step:   7 Loss: 5.220 Accuracy: 0.528\n",
      "Step:   8 Loss: 5.076 Accuracy: 0.555\n",
      "Step:   9 Loss: 5.350 Accuracy: 0.577\n",
      "Step:  10 Loss: 5.041 Accuracy: 0.596\n",
      "Step:  11 Loss: 5.267 Accuracy: 0.613\n",
      "Step:  12 Loss: 5.053 Accuracy: 0.630\n",
      "Step:  13 Loss: 5.010 Accuracy: 0.645\n",
      "Step:  14 Loss: 4.991 Accuracy: 0.658\n",
      "Step:  15 Loss: 5.071 Accuracy: 0.671\n",
      "Step:  16 Loss: 4.909 Accuracy: 0.682\n",
      "Step:  17 Loss: 5.152 Accuracy: 0.692\n",
      "Step:  18 Loss: 4.890 Accuracy: 0.700\n",
      "Step:  19 Loss: 4.867 Accuracy: 0.707\n",
      "Step:  20 Loss: 4.924 Accuracy: 0.715\n",
      "Step:  21 Loss: 4.869 Accuracy: 0.722\n",
      "Step:  22 Loss: 4.703 Accuracy: 0.729\n",
      "Step:  23 Loss: 4.837 Accuracy: 0.735\n",
      "Step:  24 Loss: 4.813 Accuracy: 0.742\n",
      "Step:  25 Loss: 4.749 Accuracy: 0.747\n",
      "Step:  26 Loss: 4.746 Accuracy: 0.752\n",
      "Step:  27 Loss: 4.707 Accuracy: 0.757\n",
      "Step:  28 Loss: 4.712 Accuracy: 0.761\n",
      "Step:  29 Loss: 4.659 Accuracy: 0.765\n",
      "Step:  30 Loss: 4.641 Accuracy: 0.769\n",
      "Step:  31 Loss: 4.669 Accuracy: 0.773\n",
      "Step:  32 Loss: 4.671 Accuracy: 0.777\n",
      "Step:  33 Loss: 4.826 Accuracy: 0.781\n",
      "Step:  34 Loss: 4.882 Accuracy: 0.785\n",
      "Step:  35 Loss: 4.689 Accuracy: 0.788\n",
      "Step:  36 Loss: 4.662 Accuracy: 0.792\n",
      "Step:  37 Loss: 4.675 Accuracy: 0.795\n",
      "Step:  38 Loss: 4.718 Accuracy: 0.798\n",
      "Step:  39 Loss: 4.624 Accuracy: 0.801\n",
      "Step:  40 Loss: 4.469 Accuracy: 0.804\n",
      "Step:  41 Loss: 4.543 Accuracy: 0.806\n",
      "Step:  42 Loss: 4.521 Accuracy: 0.809\n",
      "Step:  43 Loss: 4.413 Accuracy: 0.811\n",
      "Step:  44 Loss: 4.464 Accuracy: 0.814\n",
      "Step:  45 Loss: 4.468 Accuracy: 0.816\n",
      "Step:  46 Loss: 4.486 Accuracy: 0.819\n",
      "Step:  47 Loss: 4.541 Accuracy: 0.821\n",
      "Step:  48 Loss: 4.453 Accuracy: 0.823\n",
      "Step:  49 Loss: 4.471 Accuracy: 0.825\n",
      "Step:  50 Loss: 4.493 Accuracy: 0.827\n",
      "Step:  51 Loss: 4.559 Accuracy: 0.829\n",
      "Step:  52 Loss: 4.329 Accuracy: 0.831\n",
      "Step:  53 Loss: 4.422 Accuracy: 0.833\n",
      "Step:  54 Loss: 4.483 Accuracy: 0.835\n",
      "Step:  55 Loss: 4.620 Accuracy: 0.837\n",
      "Step:  56 Loss: 4.256 Accuracy: 0.839\n",
      "Step:  57 Loss: 4.286 Accuracy: 0.840\n",
      "Step:  58 Loss: 4.268 Accuracy: 0.842\n",
      "Step:  59 Loss: 4.411 Accuracy: 0.844\n",
      "Step:  60 Loss: 4.251 Accuracy: 0.846\n",
      "Step:  61 Loss: 4.367 Accuracy: 0.847\n",
      "Step:  62 Loss: 4.272 Accuracy: 0.848\n",
      "Step:  63 Loss: 4.562 Accuracy: 0.850\n",
      "Step:  64 Loss: 4.238 Accuracy: 0.851\n",
      "Step:  65 Loss: 4.330 Accuracy: 0.853\n",
      "Step:  66 Loss: 4.237 Accuracy: 0.854\n",
      "Step:  67 Loss: 4.235 Accuracy: 0.855\n",
      "Step:  68 Loss: 4.266 Accuracy: 0.856\n",
      "Step:  69 Loss: 4.216 Accuracy: 0.857\n",
      "Step:  70 Loss: 4.330 Accuracy: 0.859\n",
      "Step:  71 Loss: 4.156 Accuracy: 0.860\n",
      "Step:  72 Loss: 4.143 Accuracy: 0.861\n",
      "Step:  73 Loss: 4.315 Accuracy: 0.862\n",
      "Step:  74 Loss: 4.286 Accuracy: 0.863\n",
      "Step:  75 Loss: 4.184 Accuracy: 0.864\n",
      "Step:  76 Loss: 4.168 Accuracy: 0.866\n",
      "Step:  77 Loss: 4.240 Accuracy: 0.867\n",
      "Step:  78 Loss: 4.093 Accuracy: 0.868\n",
      "Step:  79 Loss: 4.217 Accuracy: 0.869\n",
      "Step:  80 Loss: 4.149 Accuracy: 0.870\n",
      "Step:  81 Loss: 4.202 Accuracy: 0.871\n",
      "Step:  82 Loss: 4.124 Accuracy: 0.872\n",
      "Step:  83 Loss: 4.176 Accuracy: 0.873\n",
      "Step:  84 Loss: 4.183 Accuracy: 0.874\n",
      "Step:  85 Loss: 4.159 Accuracy: 0.875\n",
      "Step:  86 Loss: 4.159 Accuracy: 0.876\n",
      "Step:  87 Loss: 4.265 Accuracy: 0.877\n",
      "Step:  88 Loss: 4.077 Accuracy: 0.878\n",
      "Step:  89 Loss: 4.171 Accuracy: 0.878\n",
      "Step:  90 Loss: 4.058 Accuracy: 0.879\n",
      "Step:  91 Loss: 4.024 Accuracy: 0.880\n",
      "Step:  92 Loss: 4.022 Accuracy: 0.881\n",
      "Step:  93 Loss: 4.213 Accuracy: 0.882\n",
      "Step:  94 Loss: 4.106 Accuracy: 0.882\n",
      "Step:  95 Loss: 4.005 Accuracy: 0.883\n",
      "Step:  96 Loss: 4.064 Accuracy: 0.884\n",
      "Step:  97 Loss: 3.966 Accuracy: 0.884\n",
      "Step:  98 Loss: 3.955 Accuracy: 0.885\n",
      "Step:  99 Loss: 3.960 Accuracy: 0.886\n",
      "Step: 100 Loss: 3.904 Accuracy: 0.887\n",
      "Step: 101 Loss: 3.899 Accuracy: 0.887\n",
      "Step: 102 Loss: 3.880 Accuracy: 0.888\n",
      "Step: 103 Loss: 3.872 Accuracy: 0.889\n",
      "Step: 104 Loss: 4.037 Accuracy: 0.889\n",
      "Step: 105 Loss: 3.914 Accuracy: 0.890\n",
      "Step: 106 Loss: 3.862 Accuracy: 0.891\n",
      "Step: 107 Loss: 3.928 Accuracy: 0.891\n",
      "Step: 108 Loss: 3.964 Accuracy: 0.892\n",
      "Step: 109 Loss: 3.929 Accuracy: 0.893\n",
      "Step: 110 Loss: 3.874 Accuracy: 0.893\n",
      "Step: 111 Loss: 3.861 Accuracy: 0.894\n",
      "Step: 112 Loss: 3.837 Accuracy: 0.894\n",
      "Step: 113 Loss: 3.917 Accuracy: 0.895\n",
      "Step: 114 Loss: 3.872 Accuracy: 0.896\n",
      "Step: 115 Loss: 3.777 Accuracy: 0.896\n",
      "Step: 116 Loss: 3.736 Accuracy: 0.897\n",
      "Step: 117 Loss: 3.801 Accuracy: 0.897\n",
      "Step: 118 Loss: 3.750 Accuracy: 0.898\n",
      "Step: 119 Loss: 3.888 Accuracy: 0.898\n",
      "Step: 120 Loss: 3.733 Accuracy: 0.899\n",
      "Step: 121 Loss: 3.757 Accuracy: 0.899\n",
      "Step: 122 Loss: 3.782 Accuracy: 0.900\n",
      "Step: 123 Loss: 3.806 Accuracy: 0.901\n",
      "Step: 124 Loss: 3.718 Accuracy: 0.901\n",
      "Step: 125 Loss: 3.814 Accuracy: 0.902\n",
      "Step: 126 Loss: 3.692 Accuracy: 0.902\n",
      "Step: 127 Loss: 3.745 Accuracy: 0.903\n",
      "Step: 128 Loss: 3.692 Accuracy: 0.903\n",
      "Step: 129 Loss: 3.676 Accuracy: 0.904\n",
      "Step: 130 Loss: 3.711 Accuracy: 0.904\n",
      "Step: 131 Loss: 3.695 Accuracy: 0.904\n",
      "Step: 132 Loss: 3.664 Accuracy: 0.905\n",
      "Step: 133 Loss: 3.634 Accuracy: 0.905\n",
      "Step: 134 Loss: 3.684 Accuracy: 0.906\n",
      "Step: 135 Loss: 3.583 Accuracy: 0.906\n",
      "Step: 136 Loss: 3.641 Accuracy: 0.907\n",
      "Step: 137 Loss: 3.649 Accuracy: 0.907\n",
      "Step: 138 Loss: 3.610 Accuracy: 0.907\n",
      "Step: 139 Loss: 3.562 Accuracy: 0.908\n",
      "Step: 140 Loss: 3.589 Accuracy: 0.908\n",
      "Step: 141 Loss: 3.571 Accuracy: 0.909\n",
      "Step: 142 Loss: 3.594 Accuracy: 0.909\n",
      "Step: 143 Loss: 3.605 Accuracy: 0.909\n",
      "Step: 144 Loss: 3.611 Accuracy: 0.910\n",
      "Step: 145 Loss: 3.579 Accuracy: 0.910\n",
      "Step: 146 Loss: 3.553 Accuracy: 0.911\n",
      "Step: 147 Loss: 3.571 Accuracy: 0.911\n",
      "Step: 148 Loss: 3.520 Accuracy: 0.911\n",
      "Step: 149 Loss: 3.469 Accuracy: 0.912\n",
      "Step: 150 Loss: 3.516 Accuracy: 0.912\n",
      "Step: 151 Loss: 3.486 Accuracy: 0.913\n",
      "Step: 152 Loss: 3.488 Accuracy: 0.913\n",
      "Step: 153 Loss: 3.486 Accuracy: 0.913\n",
      "Step: 154 Loss: 3.426 Accuracy: 0.914\n",
      "Step: 155 Loss: 3.529 Accuracy: 0.914\n",
      "Step: 156 Loss: 3.453 Accuracy: 0.914\n",
      "Step: 157 Loss: 3.567 Accuracy: 0.915\n",
      "Step: 158 Loss: 3.451 Accuracy: 0.915\n",
      "Step: 159 Loss: 3.473 Accuracy: 0.915\n",
      "Step: 160 Loss: 3.397 Accuracy: 0.916\n",
      "Step: 161 Loss: 3.427 Accuracy: 0.916\n",
      "Step: 162 Loss: 3.471 Accuracy: 0.916\n",
      "Step: 163 Loss: 3.435 Accuracy: 0.917\n",
      "Step: 164 Loss: 3.444 Accuracy: 0.917\n",
      "Step: 165 Loss: 3.424 Accuracy: 0.917\n",
      "Step: 166 Loss: 3.400 Accuracy: 0.918\n",
      "Step: 167 Loss: 3.518 Accuracy: 0.918\n",
      "Step: 168 Loss: 3.368 Accuracy: 0.918\n",
      "Step: 169 Loss: 3.436 Accuracy: 0.919\n",
      "Step: 170 Loss: 3.343 Accuracy: 0.919\n",
      "Step: 171 Loss: 3.402 Accuracy: 0.919\n",
      "Step: 172 Loss: 3.303 Accuracy: 0.920\n",
      "Step: 173 Loss: 3.317 Accuracy: 0.920\n",
      "Step: 174 Loss: 3.367 Accuracy: 0.920\n",
      "Step: 175 Loss: 3.323 Accuracy: 0.921\n",
      "Step: 176 Loss: 3.251 Accuracy: 0.921\n",
      "Step: 177 Loss: 3.381 Accuracy: 0.921\n",
      "Step: 178 Loss: 3.295 Accuracy: 0.921\n",
      "Step: 179 Loss: 3.400 Accuracy: 0.922\n",
      "Step: 180 Loss: 3.273 Accuracy: 0.922\n",
      "Step: 181 Loss: 3.254 Accuracy: 0.922\n",
      "Step: 182 Loss: 3.319 Accuracy: 0.923\n",
      "Step: 183 Loss: 3.240 Accuracy: 0.923\n",
      "Step: 184 Loss: 3.265 Accuracy: 0.923\n",
      "Step: 185 Loss: 3.292 Accuracy: 0.923\n",
      "Step: 186 Loss: 3.426 Accuracy: 0.924\n",
      "Step: 187 Loss: 3.324 Accuracy: 0.924\n",
      "Step: 188 Loss: 3.160 Accuracy: 0.924\n",
      "Step: 189 Loss: 3.248 Accuracy: 0.924\n",
      "Step: 190 Loss: 3.226 Accuracy: 0.925\n",
      "Step: 191 Loss: 3.145 Accuracy: 0.925\n",
      "Step: 192 Loss: 3.192 Accuracy: 0.925\n",
      "Step: 193 Loss: 3.157 Accuracy: 0.925\n",
      "Step: 194 Loss: 3.129 Accuracy: 0.926\n",
      "Step: 195 Loss: 3.130 Accuracy: 0.926\n",
      "Step: 196 Loss: 3.225 Accuracy: 0.926\n",
      "Step: 197 Loss: 3.108 Accuracy: 0.926\n",
      "Step: 198 Loss: 3.122 Accuracy: 0.927\n",
      "Step: 199 Loss: 3.081 Accuracy: 0.927\n"
     ]
    }
   ],
   "source": [
    "sess = tf.Session()\n",
    "lossadam = []\n",
    "sess.run(init_op)\n",
    "# Run the training loop.\n",
    "train_handle = sess.run(training_iterator.string_handle())\n",
    "heldout_handle = sess.run(heldout_iterator.string_handle())\n",
    "for epoch in range(0,epoch_num):\n",
    "    for _ in range(0, total, int(N)):\n",
    "        _ = sess.run([train_op, accuracy_update_op],feed_dict={handle: train_handle})\n",
    "        \n",
    "    loss_value, accuracy_value = sess.run([elbo_loss, accuracy], feed_dict={handle: train_handle})\n",
    "    lossadam.append(loss_value)\n",
    "    print(\"Step: {:>3d} Loss: {:.3f} Accuracy: {:.3f}\".format(epoch, loss_value, accuracy_value))"
   ]
  },
  {
   "cell_type": "code",
   "execution_count": 14,
   "metadata": {
    "collapsed": true
   },
   "outputs": [],
   "source": [
    "with open('losses/adamloss', 'wb') as fp:\n",
    "    pickle.dump(lossadam, fp)"
   ]
  },
  {
   "cell_type": "markdown",
   "metadata": {},
   "source": [
    "# BBB"
   ]
  },
  {
   "cell_type": "code",
   "execution_count": 46,
   "metadata": {},
   "outputs": [],
   "source": [
    "names = []\n",
    "qmeans = []\n",
    "qstds = []\n",
    "for i, layer in enumerate(neural_net.layers):\n",
    "    try:\n",
    "        q = layer.kernel_posterior\n",
    "    except AttributeError:\n",
    "        continue\n",
    "    names.append(\"Layer {}\".format(i))\n",
    "    qmeans.append(q.mean())\n",
    "    qstds.append(q.stddev())\n",
    "\n",
    "with tf.name_scope(\"train\"):\n",
    "    optimizer = tf.train.GradientDescentOptimizer(learning_rate=0.1)\n",
    "    train_op = optimizer.minimize(elbo_loss)\n",
    "\n",
    "init_op = tf.group(tf.global_variables_initializer(),\n",
    "                     tf.local_variables_initializer())\n",
    "sess = tf.Session()\n",
    "losssgd = []"
   ]
  },
  {
   "cell_type": "code",
   "execution_count": 47,
   "metadata": {
    "scrolled": true
   },
   "outputs": [
    {
     "name": "stdout",
     "output_type": "stream",
     "text": [
      "Step:   0 Loss: 6.864 Accuracy: 0.116\n",
      "Step:   1 Loss: 6.677 Accuracy: 0.167\n",
      "Step:   2 Loss: 6.109 Accuracy: 0.242\n",
      "Step:   3 Loss: 5.815 Accuracy: 0.318\n",
      "Step:   4 Loss: 5.519 Accuracy: 0.383\n",
      "Step:   5 Loss: 5.285 Accuracy: 0.427\n",
      "Step:   6 Loss: 5.335 Accuracy: 0.468\n",
      "Step:   7 Loss: 5.135 Accuracy: 0.505\n",
      "Step:   8 Loss: 5.138 Accuracy: 0.532\n",
      "Step:   9 Loss: 5.064 Accuracy: 0.561\n",
      "Step:  10 Loss: 5.163 Accuracy: 0.585\n",
      "Step:  11 Loss: 5.109 Accuracy: 0.605\n",
      "Step:  12 Loss: 5.205 Accuracy: 0.622\n",
      "Step:  13 Loss: 5.118 Accuracy: 0.635\n",
      "Step:  14 Loss: 5.101 Accuracy: 0.647\n",
      "Step:  15 Loss: 5.087 Accuracy: 0.660\n",
      "Step:  16 Loss: 5.011 Accuracy: 0.672\n",
      "Step:  17 Loss: 5.118 Accuracy: 0.683\n",
      "Step:  18 Loss: 5.013 Accuracy: 0.693\n",
      "Step:  19 Loss: 5.112 Accuracy: 0.701\n",
      "Step:  20 Loss: 5.014 Accuracy: 0.708\n",
      "Step:  21 Loss: 4.853 Accuracy: 0.715\n",
      "Step:  22 Loss: 4.852 Accuracy: 0.723\n",
      "Step:  23 Loss: 4.983 Accuracy: 0.730\n",
      "Step:  24 Loss: 4.871 Accuracy: 0.734\n",
      "Step:  25 Loss: 5.109 Accuracy: 0.740\n",
      "Step:  26 Loss: 5.008 Accuracy: 0.744\n",
      "Step:  27 Loss: 5.077 Accuracy: 0.749\n",
      "Step:  28 Loss: 5.081 Accuracy: 0.754\n",
      "Step:  29 Loss: 4.876 Accuracy: 0.759\n",
      "Step:  30 Loss: 4.855 Accuracy: 0.763\n",
      "Step:  31 Loss: 4.890 Accuracy: 0.768\n",
      "Step:  32 Loss: 4.900 Accuracy: 0.772\n",
      "Step:  33 Loss: 4.855 Accuracy: 0.776\n",
      "Step:  34 Loss: 4.834 Accuracy: 0.779\n",
      "Step:  35 Loss: 4.831 Accuracy: 0.783\n",
      "Step:  36 Loss: 4.930 Accuracy: 0.786\n",
      "Step:  37 Loss: 4.896 Accuracy: 0.789\n",
      "Step:  38 Loss: 5.051 Accuracy: 0.792\n",
      "Step:  39 Loss: 4.875 Accuracy: 0.795\n",
      "Step:  40 Loss: 4.810 Accuracy: 0.798\n",
      "Step:  41 Loss: 4.945 Accuracy: 0.801\n",
      "Step:  42 Loss: 4.838 Accuracy: 0.803\n",
      "Step:  43 Loss: 4.814 Accuracy: 0.806\n",
      "Step:  44 Loss: 4.758 Accuracy: 0.808\n",
      "Step:  45 Loss: 4.914 Accuracy: 0.810\n",
      "Step:  46 Loss: 4.889 Accuracy: 0.812\n",
      "Step:  47 Loss: 4.769 Accuracy: 0.814\n",
      "Step:  48 Loss: 4.916 Accuracy: 0.816\n",
      "Step:  49 Loss: 4.805 Accuracy: 0.818\n",
      "Step:  50 Loss: 4.748 Accuracy: 0.820\n",
      "Step:  51 Loss: 4.797 Accuracy: 0.822\n",
      "Step:  52 Loss: 4.949 Accuracy: 0.824\n",
      "Step:  53 Loss: 4.745 Accuracy: 0.826\n",
      "Step:  54 Loss: 4.905 Accuracy: 0.828\n",
      "Step:  55 Loss: 4.814 Accuracy: 0.829\n",
      "Step:  56 Loss: 4.748 Accuracy: 0.831\n",
      "Step:  57 Loss: 4.930 Accuracy: 0.832\n",
      "Step:  58 Loss: 4.905 Accuracy: 0.834\n",
      "Step:  59 Loss: 4.779 Accuracy: 0.836\n",
      "Step:  60 Loss: 4.802 Accuracy: 0.837\n",
      "Step:  61 Loss: 4.777 Accuracy: 0.839\n",
      "Step:  62 Loss: 4.782 Accuracy: 0.840\n",
      "Step:  63 Loss: 4.767 Accuracy: 0.841\n",
      "Step:  64 Loss: 4.763 Accuracy: 0.843\n",
      "Step:  65 Loss: 4.791 Accuracy: 0.844\n",
      "Step:  66 Loss: 4.681 Accuracy: 0.845\n",
      "Step:  67 Loss: 4.793 Accuracy: 0.846\n",
      "Step:  68 Loss: 4.857 Accuracy: 0.848\n",
      "Step:  69 Loss: 4.724 Accuracy: 0.849\n",
      "Step:  70 Loss: 4.865 Accuracy: 0.850\n",
      "Step:  71 Loss: 4.900 Accuracy: 0.851\n",
      "Step:  72 Loss: 4.869 Accuracy: 0.852\n",
      "Step:  73 Loss: 4.823 Accuracy: 0.853\n",
      "Step:  74 Loss: 4.861 Accuracy: 0.854\n",
      "Step:  75 Loss: 4.873 Accuracy: 0.855\n",
      "Step:  76 Loss: 4.835 Accuracy: 0.856\n",
      "Step:  77 Loss: 4.814 Accuracy: 0.857\n",
      "Step:  78 Loss: 4.738 Accuracy: 0.858\n",
      "Step:  79 Loss: 4.674 Accuracy: 0.860\n",
      "Step:  80 Loss: 4.683 Accuracy: 0.860\n",
      "Step:  81 Loss: 4.727 Accuracy: 0.861\n",
      "Step:  82 Loss: 4.974 Accuracy: 0.862\n",
      "Step:  83 Loss: 4.787 Accuracy: 0.863\n",
      "Step:  84 Loss: 4.721 Accuracy: 0.864\n",
      "Step:  85 Loss: 4.773 Accuracy: 0.865\n",
      "Step:  86 Loss: 4.796 Accuracy: 0.866\n",
      "Step:  87 Loss: 4.811 Accuracy: 0.867\n",
      "Step:  88 Loss: 4.790 Accuracy: 0.868\n",
      "Step:  89 Loss: 4.791 Accuracy: 0.868\n",
      "Step:  90 Loss: 4.611 Accuracy: 0.869\n",
      "Step:  91 Loss: 4.718 Accuracy: 0.870\n",
      "Step:  92 Loss: 4.786 Accuracy: 0.871\n",
      "Step:  93 Loss: 4.867 Accuracy: 0.871\n",
      "Step:  94 Loss: 4.830 Accuracy: 0.872\n",
      "Step:  95 Loss: 4.709 Accuracy: 0.873\n",
      "Step:  96 Loss: 4.729 Accuracy: 0.873\n",
      "Step:  97 Loss: 4.839 Accuracy: 0.874\n",
      "Step:  98 Loss: 4.817 Accuracy: 0.875\n",
      "Step:  99 Loss: 4.819 Accuracy: 0.876\n",
      "Step: 100 Loss: 4.813 Accuracy: 0.876\n",
      "Step: 101 Loss: 4.766 Accuracy: 0.877\n",
      "Step: 102 Loss: 4.679 Accuracy: 0.878\n",
      "Step: 103 Loss: 4.766 Accuracy: 0.878\n",
      "Step: 104 Loss: 4.779 Accuracy: 0.879\n",
      "Step: 105 Loss: 4.832 Accuracy: 0.880\n",
      "Step: 106 Loss: 4.800 Accuracy: 0.880\n",
      "Step: 107 Loss: 4.918 Accuracy: 0.881\n",
      "Step: 108 Loss: 4.744 Accuracy: 0.881\n",
      "Step: 109 Loss: 4.672 Accuracy: 0.882\n",
      "Step: 110 Loss: 4.799 Accuracy: 0.882\n",
      "Step: 111 Loss: 4.753 Accuracy: 0.883\n",
      "Step: 112 Loss: 4.803 Accuracy: 0.884\n",
      "Step: 113 Loss: 4.789 Accuracy: 0.884\n",
      "Step: 114 Loss: 4.747 Accuracy: 0.885\n",
      "Step: 115 Loss: 4.712 Accuracy: 0.885\n",
      "Step: 116 Loss: 4.766 Accuracy: 0.886\n",
      "Step: 117 Loss: 4.760 Accuracy: 0.886\n",
      "Step: 118 Loss: 4.867 Accuracy: 0.887\n",
      "Step: 119 Loss: 4.790 Accuracy: 0.887\n",
      "Step: 120 Loss: 4.802 Accuracy: 0.888\n",
      "Step: 121 Loss: 4.665 Accuracy: 0.888\n",
      "Step: 122 Loss: 4.760 Accuracy: 0.889\n",
      "Step: 123 Loss: 4.695 Accuracy: 0.889\n",
      "Step: 124 Loss: 4.733 Accuracy: 0.890\n",
      "Step: 125 Loss: 4.684 Accuracy: 0.890\n",
      "Step: 126 Loss: 4.777 Accuracy: 0.891\n",
      "Step: 127 Loss: 4.755 Accuracy: 0.891\n",
      "Step: 128 Loss: 4.738 Accuracy: 0.892\n",
      "Step: 129 Loss: 4.751 Accuracy: 0.892\n",
      "Step: 130 Loss: 4.694 Accuracy: 0.893\n",
      "Step: 131 Loss: 4.710 Accuracy: 0.893\n",
      "Step: 132 Loss: 4.774 Accuracy: 0.893\n",
      "Step: 133 Loss: 4.713 Accuracy: 0.894\n",
      "Step: 134 Loss: 4.640 Accuracy: 0.894\n",
      "Step: 135 Loss: 4.816 Accuracy: 0.895\n",
      "Step: 136 Loss: 4.767 Accuracy: 0.895\n",
      "Step: 137 Loss: 4.801 Accuracy: 0.895\n",
      "Step: 138 Loss: 4.778 Accuracy: 0.896\n",
      "Step: 139 Loss: 4.686 Accuracy: 0.896\n",
      "Step: 140 Loss: 4.807 Accuracy: 0.896\n",
      "Step: 141 Loss: 4.782 Accuracy: 0.897\n",
      "Step: 142 Loss: 4.689 Accuracy: 0.897\n",
      "Step: 143 Loss: 4.755 Accuracy: 0.898\n",
      "Step: 144 Loss: 4.766 Accuracy: 0.898\n",
      "Step: 145 Loss: 4.701 Accuracy: 0.898\n",
      "Step: 146 Loss: 4.738 Accuracy: 0.899\n",
      "Step: 147 Loss: 4.794 Accuracy: 0.899\n",
      "Step: 148 Loss: 4.847 Accuracy: 0.899\n",
      "Step: 149 Loss: 4.743 Accuracy: 0.900\n",
      "Step: 150 Loss: 4.763 Accuracy: 0.900\n",
      "Step: 151 Loss: 4.723 Accuracy: 0.900\n",
      "Step: 152 Loss: 4.731 Accuracy: 0.901\n",
      "Step: 153 Loss: 4.749 Accuracy: 0.901\n",
      "Step: 154 Loss: 4.764 Accuracy: 0.901\n",
      "Step: 155 Loss: 4.677 Accuracy: 0.902\n",
      "Step: 156 Loss: 4.742 Accuracy: 0.902\n",
      "Step: 157 Loss: 4.749 Accuracy: 0.902\n",
      "Step: 158 Loss: 4.774 Accuracy: 0.903\n",
      "Step: 159 Loss: 4.803 Accuracy: 0.903\n",
      "Step: 160 Loss: 4.699 Accuracy: 0.903\n",
      "Step: 161 Loss: 4.781 Accuracy: 0.903\n",
      "Step: 162 Loss: 4.793 Accuracy: 0.904\n",
      "Step: 163 Loss: 4.761 Accuracy: 0.904\n",
      "Step: 164 Loss: 4.758 Accuracy: 0.904\n",
      "Step: 165 Loss: 4.638 Accuracy: 0.905\n",
      "Step: 166 Loss: 4.753 Accuracy: 0.905\n",
      "Step: 167 Loss: 4.774 Accuracy: 0.905\n",
      "Step: 168 Loss: 4.747 Accuracy: 0.905\n",
      "Step: 169 Loss: 4.637 Accuracy: 0.906\n",
      "Step: 170 Loss: 4.724 Accuracy: 0.906\n",
      "Step: 171 Loss: 4.792 Accuracy: 0.906\n",
      "Step: 172 Loss: 4.685 Accuracy: 0.907\n",
      "Step: 173 Loss: 4.729 Accuracy: 0.907\n",
      "Step: 174 Loss: 4.734 Accuracy: 0.907\n",
      "Step: 175 Loss: 4.765 Accuracy: 0.908\n",
      "Step: 176 Loss: 4.835 Accuracy: 0.908\n",
      "Step: 177 Loss: 4.725 Accuracy: 0.908\n",
      "Step: 178 Loss: 4.693 Accuracy: 0.908\n",
      "Step: 179 Loss: 4.742 Accuracy: 0.909\n",
      "Step: 180 Loss: 4.738 Accuracy: 0.909\n",
      "Step: 181 Loss: 4.736 Accuracy: 0.909\n",
      "Step: 182 Loss: 4.740 Accuracy: 0.909\n",
      "Step: 183 Loss: 4.833 Accuracy: 0.910\n",
      "Step: 184 Loss: 4.766 Accuracy: 0.910\n",
      "Step: 185 Loss: 4.733 Accuracy: 0.910\n",
      "Step: 186 Loss: 4.717 Accuracy: 0.910\n",
      "Step: 187 Loss: 4.792 Accuracy: 0.911\n",
      "Step: 188 Loss: 4.758 Accuracy: 0.911\n",
      "Step: 189 Loss: 4.777 Accuracy: 0.911\n",
      "Step: 190 Loss: 4.671 Accuracy: 0.911\n",
      "Step: 191 Loss: 4.681 Accuracy: 0.912\n",
      "Step: 192 Loss: 4.724 Accuracy: 0.912\n",
      "Step: 193 Loss: 4.780 Accuracy: 0.912\n",
      "Step: 194 Loss: 4.719 Accuracy: 0.912\n",
      "Step: 195 Loss: 4.693 Accuracy: 0.913\n",
      "Step: 196 Loss: 4.676 Accuracy: 0.913\n",
      "Step: 197 Loss: 4.704 Accuracy: 0.913\n",
      "Step: 198 Loss: 4.681 Accuracy: 0.913\n",
      "Step: 199 Loss: 4.760 Accuracy: 0.913\n"
     ]
    }
   ],
   "source": [
    "sess = tf.Session()\n",
    "losssgd = []\n",
    "sess.run(init_op)\n",
    "# Run the training loop.\n",
    "train_handle = sess.run(training_iterator.string_handle())\n",
    "heldout_handle = sess.run(heldout_iterator.string_handle())\n",
    "for epoch in range(0,epoch_num):\n",
    "    for _ in range(0, total, int(N)):\n",
    "        _ = sess.run([train_op, accuracy_update_op],feed_dict={handle: train_handle})\n",
    "        \n",
    "    loss_value, accuracy_value = sess.run([elbo_loss, accuracy], feed_dict={handle: train_handle})\n",
    "    losssgd.append(loss_value)\n",
    "    print(\"Step: {:>3d} Loss: {:.3f} Accuracy: {:.3f}\".format(epoch, loss_value, accuracy_value))"
   ]
  },
  {
   "cell_type": "code",
   "execution_count": 12,
   "metadata": {
    "collapsed": true
   },
   "outputs": [],
   "source": [
    "with open('losses/bbbloss', 'wb') as fp:\n",
    "    pickle.dump(losssgd, fp)"
   ]
  },
  {
   "cell_type": "markdown",
   "metadata": {},
   "source": [
    "# MISSO"
   ]
  },
  {
   "cell_type": "code",
   "execution_count": 63,
   "metadata": {},
   "outputs": [],
   "source": [
    "names = []\n",
    "qmeans = []\n",
    "qstds = []\n",
    "for i, layer in enumerate(neural_net.layers):\n",
    "    try:\n",
    "        q = layer.kernel_posterior\n",
    "    except AttributeError:\n",
    "        continue\n",
    "    names.append(\"Layer {}\".format(i))\n",
    "    qmeans.append(q.mean())\n",
    "    qstds.append(q.stddev())\n",
    "\n",
    "with tf.name_scope(\"train\"):\n",
    "    optimizer = tf.train.GradientDescentOptimizer(learning_rate=FLAGS.learning_rate)\n",
    "    train_op = optimizer.minimize(elbo_loss)\n",
    "\n",
    "init_op = tf.group(tf.global_variables_initializer(),\n",
    "                     tf.local_variables_initializer())\n",
    "t_vars = tf.trainable_variables()\n",
    "sess = tf.Session()\n",
    "lossmisso = []"
   ]
  },
  {
   "cell_type": "code",
   "execution_count": 64,
   "metadata": {},
   "outputs": [],
   "source": [
    "def _compute_gradients(tensor, var_list):\n",
    "  grads = tf.gradients(tensor, var_list)\n",
    "  return [grad if grad is not None else tf.zeros_like(var)\n",
    "          for var, grad in zip(var_list, grads)]"
   ]
  },
  {
   "cell_type": "code",
   "execution_count": 65,
   "metadata": {
    "scrolled": true
   },
   "outputs": [
    {
     "name": "stdout",
     "output_type": "stream",
     "text": [
      "0\n",
      "5500\n",
      "11000\n",
      "16500\n",
      "22000\n",
      "27500\n",
      "33000\n",
      "38500\n",
      "44000\n",
      "49500\n"
     ]
    }
   ],
   "source": [
    "#First pass over the data with SGD (keeping in memory all the gradients)\n",
    "sess.run(init_op)\n",
    "n_batches = 100\n",
    "gradients = []\n",
    "train_handle = sess.run(training_iterator.string_handle())\n",
    "heldout_handle = sess.run(heldout_iterator.string_handle())\n",
    "for _ in range(0,total, int(N)):\n",
    "    print(_)\n",
    "    X_batch, Y_batch =  mnist_data.train.next_batch(FLAGS.batch_size, fake_data=False)\n",
    "    grads = _compute_gradients(elbo_loss, tf.trainable_variables())\n",
    "    var_updates = []\n",
    "    var_list = tf.trainable_variables()\n",
    "    for grad, var in zip(grads, var_list):\n",
    "        var_updates.append(var.assign_sub(FLAGS.learning_rate * grad))\n",
    "    train_op = tf.group(*var_updates)\n",
    "    gradients.append(grads)\n",
    "    sess.run([train_op, accuracy_update_op],\n",
    "                   feed_dict={handle: train_handle})\n",
    "loss_value, accuracy_value = sess.run([elbo_loss, accuracy], feed_dict={handle: train_handle})\n",
    "lossmisso.append(loss_value)"
   ]
  },
  {
   "cell_type": "code",
   "execution_count": null,
   "metadata": {},
   "outputs": [
    {
     "name": "stdout",
     "output_type": "stream",
     "text": [
      "1\n"
     ]
    }
   ],
   "source": [
    "#MISSO\n",
    "for epoch in range(1,epoch_num):\n",
    "    print(epoch)\n",
    "    for i in range(0,int(total/N)):\n",
    "        X_batch, Y_batch =  mnist_data.train.next_batch(FLAGS.batch_size, fake_data=False)\n",
    "        #grads = tf.gradients(newloss, tf.trainable_variables())\n",
    "        grads = _compute_gradients(elbo_loss, tf.trainable_variables())\n",
    "        gradients[i] = grads\n",
    "        var_updates = []\n",
    "        var_list = tf.trainable_variables()\n",
    "        for gradstemp in gradients:\n",
    "            for grad, var in zip(gradstemp, var_list):\n",
    "                var_updates.append(var.assign_sub(FLAGS.learning_rate * grad))\n",
    "        train_op = tf.group(*var_updates)\n",
    "        _ = sess.run([train_op, accuracy_update_op],\n",
    "                   feed_dict={handle: train_handle})\n",
    "        #info_dict = inference.update(feed_dict={x: X_batch, y_ph: Y_batch})\n",
    "        \n",
    "    loss_value, accuracy_value = sess.run([elbo_loss, accuracy], feed_dict={handle: train_handle})\n",
    "    lossmisso.append(loss_value)"
   ]
  },
  {
   "cell_type": "code",
   "execution_count": null,
   "metadata": {},
   "outputs": [],
   "source": []
  },
  {
   "cell_type": "code",
   "execution_count": null,
   "metadata": {},
   "outputs": [],
   "source": []
  },
  {
   "cell_type": "code",
   "execution_count": null,
   "metadata": {},
   "outputs": [
    {
     "name": "stdout",
     "output_type": "stream",
     "text": [
      "Step:   0 Loss: 6.930 Accuracy: 0.110\n",
      "Step:  10 Loss: 6.440 Accuracy: 0.123\n",
      "Step:  20 Loss: 5.907 Accuracy: 0.149\n",
      "Step:  30 Loss: 5.543 Accuracy: 0.182\n",
      "Step:  40 Loss: 5.642 Accuracy: 0.217\n",
      "Step:  50 Loss: 5.197 Accuracy: 0.247\n",
      "Step:  60 Loss: 5.483 Accuracy: 0.278\n",
      "Step:  70 Loss: 5.642 Accuracy: 0.305\n",
      "Step:  80 Loss: 5.730 Accuracy: 0.330\n",
      "Step:  90 Loss: 5.367 Accuracy: 0.355\n",
      "Step: 100 Loss: 5.274 Accuracy: 0.377\n"
     ]
    }
   ],
   "source": [
    "# Run the training loop.\n",
    "train_handle = sess.run(training_iterator.string_handle())\n",
    "heldout_handle = sess.run(heldout_iterator.string_handle())\n",
    "\n",
    "for epoch in range(FLAGS.max_steps):\n",
    "    X_batch, Y_batch =  mnist_data.train.next_batch(FLAGS.batch_size, fake_data=False)\n",
    "    grads = _compute_gradients(elbo_loss, tf.trainable_variables())\n",
    "    gradients[i] = grads\n",
    "    var_updates = []\n",
    "    var_list = tf.trainable_variables()\n",
    "    for gradstemp in gradients:\n",
    "        for grad, var in zip(gradstemp, var_list):\n",
    "            var_updates.append(var.assign_sub(FLAGS.learning_rate * grad))\n",
    "    train_op = tf.group(*var_updates)\n",
    "    _ = sess.run([train_op, accuracy_update_op],\n",
    "                   feed_dict={handle: train_handle})\n",
    "        \n",
    "    if epoch % 10 == 0:\n",
    "        loss_value, accuracy_value = sess.run(\n",
    "            [elbo_loss, accuracy], feed_dict={handle: train_handle})\n",
    "        lossmisso.append(loss_value)\n",
    "        print(\"Step: {:>3d} Loss: {:.3f} Accuracy: {:.3f}\".format(\n",
    "            epoch, loss_value, accuracy_value))"
   ]
  },
  {
   "cell_type": "code",
   "execution_count": 26,
   "metadata": {
    "collapsed": true
   },
   "outputs": [],
   "source": [
    "with open('losses/missoloss', 'wb') as fp:\n",
    "    pickle.dump(lossmisso, fp)"
   ]
  },
  {
   "cell_type": "markdown",
   "metadata": {},
   "source": [
    "# PLOTS"
   ]
  },
  {
   "cell_type": "code",
   "execution_count": 16,
   "metadata": {},
   "outputs": [],
   "source": [
    "def display_draws(loss, train_x, EPOCH_NUM):\n",
    "    fig, axes = plt.subplots(nrows=1, ncols=1, figsize=(16, 3.5))\n",
    "    plt.plot(np.arange(EPOCH_NUM), loss, label='Train')\n",
    "    plt.legend(fontsize=20)\n",
    "    plt.xlabel('Epoch', fontsize=15)\n",
    "    plt.ylabel('Negated ELBO', fontsize=15)\n",
    "    plt.show()"
   ]
  },
  {
   "cell_type": "code",
   "execution_count": 17,
   "metadata": {},
   "outputs": [],
   "source": [
    "X_batch, Y_batch = mnist_data.train.next_batch(FLAGS.batch_size)"
   ]
  },
  {
   "cell_type": "code",
   "execution_count": 53,
   "metadata": {},
   "outputs": [
    {
     "data": {
      "image/png": "[encoded data removed]",
      "text/plain": [
       "<matplotlib.figure.Figure at 0x1240063d0>"
      ]
     },
     "metadata": {},
     "output_type": "display_data"
    }
   ],
   "source": [
    "fig, axes = plt.subplots(nrows=1, ncols=1, figsize=(16, 3.5))\n",
    "plt.plot(np.arange(len(losssgd)), lossadam, label='ADAM')\n",
    "plt.plot(np.arange(len(losssgd)), losssgd, label='BBB')\n",
    "leg = plt.legend(fontsize=20,fancybox=True, loc='right')\n",
    "leg.get_frame().set_alpha(0.5)\n",
    "plt.xlabel('Epoch', fontsize=15)\n",
    "plt.ylabel('Negated ELBO', fontsize=15)\n",
    "plt.show()"
   ]
  },
  {
   "cell_type": "code",
   "execution_count": 18,
   "metadata": {},
   "outputs": [
    {
     "data": {
      "image/png": "[encoded data removed]",
      "text/plain": [
       "<matplotlib.figure.Figure at 0x119ff5050>"
      ]
     },
     "metadata": {},
     "output_type": "display_data"
    }
   ],
   "source": [
    "fig, axes = plt.subplots(nrows=1, ncols=1, figsize=(16, 3.5))\n",
    "plt.plot(np.arange(len(lossadam)), lossadam, label='ADAM')\n",
    "plt.plot(np.arange(len(lossadam)), losssgd, label='BBB')\n",
    "leg = plt.legend(fontsize=20,fancybox=True, loc='right')\n",
    "leg.get_frame().set_alpha(0.5)\n",
    "plt.xlabel('Epoch', fontsize=15)\n",
    "plt.ylabel('Negated ELBO', fontsize=15)\n",
    "plt.show()"
   ]
  },
  {
   "cell_type": "code",
   "execution_count": 3,
   "metadata": {
    "collapsed": true
   },
   "outputs": [],
   "source": [
    "with open ('losses/bbbloss', 'rb') as fp:\n",
    "    bbb = pickle.load(fp)\n",
    "with open ('losses/missoloss', 'rb') as fp:\n",
    "    misso = pickle.load(fp)\n",
    "with open ('losses/adamloss', 'rb') as fp:\n",
    "    adam = pickle.load(fp)"
   ]
  },
  {
   "cell_type": "code",
   "execution_count": 5,
   "metadata": {},
   "outputs": [
    {
     "data": {
      "image/png": "[encoded data removed]",
      "text/plain": [
       "<matplotlib.figure.Figure at 0x1210fd210>"
      ]
     },
     "metadata": {},
     "output_type": "display_data"
    }
   ],
   "source": [
    "fig, axes = plt.subplots(nrows=1, ncols=1, figsize=(16, 3.5))\n",
    "plt.plot(np.arange(len(adam)), adam, label='ADAM')\n",
    "plt.plot(np.arange(len(bbb)), bbb, label='BBB')\n",
    "plt.plot(np.arange(len(misso)), misso, label='MISSO')\n",
    "leg = plt.legend(fontsize=20,fancybox=True, loc='right')\n",
    "leg.get_frame().set_alpha(0.5)\n",
    "plt.xlabel('Epoch', fontsize=15)\n",
    "plt.ylabel('Negated ELBO', fontsize=15)\n",
    "plt.show()"
   ]
  },
  {
   "cell_type": "code",
   "execution_count": null,
   "metadata": {
    "collapsed": true
   },
   "outputs": [],
   "source": []
  }
 ],
 "metadata": {
  "kernelspec": {
   "display_name": "deeptech",
   "language": "python",
   "name": "deeptech"
  },
  "language_info": {
   "codemirror_mode": {
    "name": "ipython",
    "version": 2
   },
   "file_extension": ".py",
   "mimetype": "text/x-python",
   "name": "python",
   "nbconvert_exporter": "python",
   "pygments_lexer": "ipython2",
   "version": "2.7.10"
  }
 },
 "nbformat": 4,
 "nbformat_minor": 2
}
