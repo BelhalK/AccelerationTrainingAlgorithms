{
 "cells": [
  {
   "cell_type": "code",
   "execution_count": 1,
   "metadata": {
    "collapsed": false
   },
   "outputs": [
    {
     "name": "stderr",
     "output_type": "stream",
     "text": [
      "/Users/karimimohammedbelhal/Desktop/ongoing/hostnfly/deeptech/lib/python2.7/site-packages/matplotlib/__init__.py:1405: UserWarning: \n",
      "This call to matplotlib.use() has no effect because the backend has already\n",
      "been chosen; matplotlib.use() must be called *before* pylab, matplotlib.pyplot,\n",
      "or matplotlib.backends is imported for the first time.\n",
      "\n",
      "  warnings.warn(_use_error_msg)\n",
      "/Users/karimimohammedbelhal/Desktop/ongoing/hostnfly/deeptech/lib/python2.7/site-packages/h5py/__init__.py:36: FutureWarning: Conversion of the second argument of issubdtype from `float` to `np.floating` is deprecated. In future, it will be treated as `np.float64 == np.dtype(float).type`.\n",
      "  from ._conv import register_converters as _register_converters\n"
     ]
    },
    {
     "data": {
      "text/plain": [
       "['/Users/karimimohammedbelhal/Desktop/ongoing/hostnfly/deeptech/lib/python2.7/site-packages/ipykernel_launcher.py',\n",
       " '-f',\n",
       " '/Users/karimimohammedbelhal/Library/Jupyter/runtime/kernel-1447b834-9afa-4de5-84ba-22473fb8d91b.json']"
      ]
     },
     "execution_count": 1,
     "metadata": {},
     "output_type": "execute_result"
    }
   ],
   "source": [
    "from __future__ import absolute_import\n",
    "from __future__ import division\n",
    "from __future__ import print_function\n",
    "\n",
    "import pickle\n",
    "import os\n",
    "import warnings\n",
    "import matplotlib.pyplot as plt\n",
    "# Dependency imports\n",
    "from absl import flags\n",
    "import matplotlib\n",
    "%matplotlib inline\n",
    "matplotlib.use(\"Agg\")\n",
    "from matplotlib import figure  # pylint: disable=g-import-not-at-top\n",
    "from matplotlib.backends import backend_agg\n",
    "import numpy as np\n",
    "import tensorflow as tf\n",
    "import tensorflow_probability as tfp\n",
    "\n",
    "from tensorflow.contrib.learn.python.learn.datasets import mnist\n",
    "\n",
    "# TODO(b/78137893): Integration tests currently fail with seaborn imports.\n",
    "warnings.simplefilter(action=\"ignore\")\n",
    "\n",
    "try:\n",
    "  import seaborn as sns  # pylint: disable=g-import-not-at-top\n",
    "  HAS_SEABORN = True\n",
    "except ImportError:\n",
    "  HAS_SEABORN = False\n",
    "\n",
    "tfd = tfp.distributions\n",
    "\n",
    "IMAGE_SHAPE = [28, 28, 1]\n",
    "\n",
    "flags.DEFINE_float(\"learning_rate\",\n",
    "                   default=0.001,\n",
    "                   help=\"Initial learning rate.\")\n",
    "flags.DEFINE_integer(\"max_steps\",\n",
    "                     default=300,\n",
    "                     help=\"Number of training steps to run.\")\n",
    "flags.DEFINE_integer(\"batch_size\",\n",
    "                     default=128,\n",
    "                     help=\"Batch size.\")\n",
    "flags.DEFINE_string(\"data_dir\",\n",
    "                    default=os.path.join(os.getenv(\"TEST_TMPDIR\", \"/tmp\"),\n",
    "                                         \"bayesian_neural_network/data\"),\n",
    "                    help=\"Directory where data is stored (if using real data).\")\n",
    "flags.DEFINE_string(\n",
    "    \"model_dir\",\n",
    "    default=os.path.join(os.getenv(\"TEST_TMPDIR\", \"/tmp\"),\n",
    "                         \"bayesian_neural_network/\"),\n",
    "    help=\"Directory to put the model's fit.\")\n",
    "flags.DEFINE_integer(\"viz_steps\",\n",
    "                     default=100,\n",
    "                     help=\"Frequency at which save visualizations.\")\n",
    "flags.DEFINE_integer(\"num_monte_carlo\",\n",
    "                     default=50,\n",
    "                     help=\"Network draws to compute predictive probabilities.\")\n",
    "flags.DEFINE_bool(\"fake_data\",\n",
    "                  default=None,\n",
    "                  help=\"If true, uses fake data. Defaults to real data.\")\n",
    "\n",
    "flags.DEFINE_integer(\n",
    "    \"mixture_components\",\n",
    "    default=10,\n",
    "    help=\"Number of mixture components to use in the prior. Each component is \"\n",
    "         \"a diagonal normal distribution. The parameters of the components are \"\n",
    "         \"intialized randomly, and then learned along with the rest of the \"\n",
    "         \"parameters. If `analytic_kl` is True, `mixture_components` must be \"\n",
    "         \"set to `1`.\")\n",
    "flags.DEFINE_bool(\n",
    "    \"analytic_kl\",\n",
    "    default=False,\n",
    "    help=\"Whether or not to use the analytic version of the KL. When set to \"\n",
    "         \"False the E_{Z~q(Z|X)}[log p(Z)p(X|Z) - log q(Z|X)] form of the ELBO \"\n",
    "         \"will be used. Otherwise the -KL(q(Z|X) || p(Z)) + \"\n",
    "         \"E_{Z~q(Z|X)}[log p(X|Z)] form will be used. If analytic_kl is True, \"\n",
    "         \"then you must also specify `mixture_components=1`.\")\n",
    "\n",
    "FLAGS = flags.FLAGS\n",
    "import sys\n",
    "FLAGS(sys.argv, known_only=True)"
   ]
  },
  {
   "cell_type": "code",
   "execution_count": 2,
   "metadata": {
    "collapsed": true
   },
   "outputs": [],
   "source": [
    "tf.set_random_seed(1)"
   ]
  },
  {
   "cell_type": "code",
   "execution_count": 3,
   "metadata": {
    "collapsed": true
   },
   "outputs": [],
   "source": [
    "def display_draws(loss, train_x, EPOCH_NUM):\n",
    "    fig, axes = plt.subplots(nrows=1, ncols=1, figsize=(16, 3.5))\n",
    "    plt.plot(np.arange(EPOCH_NUM), loss / len(train_x), label='Train')\n",
    "    plt.legend(fontsize=20)\n",
    "    plt.xlabel('Epoch', fontsize=15)\n",
    "    plt.ylabel('Negated ELBO', fontsize=15)\n",
    "    plt.show()"
   ]
  },
  {
   "cell_type": "code",
   "execution_count": 4,
   "metadata": {
    "collapsed": false
   },
   "outputs": [
    {
     "name": "stdout",
     "output_type": "stream",
     "text": [
      "WARNING:tensorflow:From <ipython-input-4-7fe175c1efd8>:2: read_data_sets (from tensorflow.contrib.learn.python.learn.datasets.mnist) is deprecated and will be removed in a future version.\n",
      "Instructions for updating:\n",
      "Please use alternatives such as official/mnist/dataset.py from tensorflow/models.\n",
      "WARNING:tensorflow:From /Users/karimimohammedbelhal/Desktop/ongoing/hostnfly/deeptech/lib/python2.7/site-packages/tensorflow/contrib/learn/python/learn/datasets/mnist.py:260: maybe_download (from tensorflow.contrib.learn.python.learn.datasets.base) is deprecated and will be removed in a future version.\n",
      "Instructions for updating:\n",
      "Please write your own downloading logic.\n",
      "WARNING:tensorflow:From /Users/karimimohammedbelhal/Desktop/ongoing/hostnfly/deeptech/lib/python2.7/site-packages/tensorflow/contrib/learn/python/learn/datasets/mnist.py:262: extract_images (from tensorflow.contrib.learn.python.learn.datasets.mnist) is deprecated and will be removed in a future version.\n",
      "Instructions for updating:\n",
      "Please use tf.data to implement this functionality.\n",
      "Extracting /tmp/bayesian_neural_network/data/train-images-idx3-ubyte.gz\n",
      "WARNING:tensorflow:From /Users/karimimohammedbelhal/Desktop/ongoing/hostnfly/deeptech/lib/python2.7/site-packages/tensorflow/contrib/learn/python/learn/datasets/mnist.py:267: extract_labels (from tensorflow.contrib.learn.python.learn.datasets.mnist) is deprecated and will be removed in a future version.\n",
      "Instructions for updating:\n",
      "Please use tf.data to implement this functionality.\n",
      "Extracting /tmp/bayesian_neural_network/data/train-labels-idx1-ubyte.gz\n",
      "Extracting /tmp/bayesian_neural_network/data/t10k-images-idx3-ubyte.gz\n",
      "Extracting /tmp/bayesian_neural_network/data/t10k-labels-idx1-ubyte.gz\n",
      "WARNING:tensorflow:From /Users/karimimohammedbelhal/Desktop/ongoing/hostnfly/deeptech/lib/python2.7/site-packages/tensorflow/contrib/learn/python/learn/datasets/mnist.py:290: __init__ (from tensorflow.contrib.learn.python.learn.datasets.mnist) is deprecated and will be removed in a future version.\n",
      "Instructions for updating:\n",
      "Please use alternatives such as official/mnist/dataset.py from tensorflow/models.\n"
     ]
    }
   ],
   "source": [
    "tf.gfile.MakeDirs(FLAGS.model_dir)\n",
    "mnist_data = mnist.read_data_sets(FLAGS.data_dir, reshape=False)"
   ]
  },
  {
   "cell_type": "code",
   "execution_count": 5,
   "metadata": {
    "collapsed": false
   },
   "outputs": [],
   "source": [
    "def build_input_pipeline(mnist_data, batch_size, heldout_size):\n",
    "  \"\"\"Build an Iterator switching between train and heldout data.\"\"\"\n",
    "\n",
    "  # Build an iterator over training batches.\n",
    "  training_dataset = tf.data.Dataset.from_tensor_slices(\n",
    "      (mnist_data.train.images, np.int32(mnist_data.train.labels)))\n",
    "  training_batches = training_dataset.shuffle(\n",
    "      50000, reshuffle_each_iteration=True).repeat().batch(batch_size)\n",
    "  training_iterator = training_batches.make_one_shot_iterator()\n",
    "\n",
    "  # Build a iterator over the heldout set with batch_size=heldout_size,\n",
    "  # i.e., return the entire heldout set as a constant.\n",
    "  heldout_dataset = tf.data.Dataset.from_tensor_slices(\n",
    "      (mnist_data.validation.images,\n",
    "       np.int32(mnist_data.validation.labels)))\n",
    "  heldout_frozen = (heldout_dataset.take(heldout_size).\n",
    "                    repeat().batch(heldout_size))\n",
    "  heldout_iterator = heldout_frozen.make_one_shot_iterator()\n",
    "\n",
    "  # Combine these into a feedable iterator that can switch between training\n",
    "  # and validation inputs.\n",
    "  handle = tf.placeholder(tf.string, shape=[])\n",
    "  feedable_iterator = tf.data.Iterator.from_string_handle(\n",
    "      handle, training_batches.output_types, training_batches.output_shapes)\n",
    "  images, labels = feedable_iterator.get_next()\n",
    "\n",
    "  return images, labels, handle, training_iterator, heldout_iterator"
   ]
  },
  {
   "cell_type": "code",
   "execution_count": 6,
   "metadata": {
    "collapsed": true
   },
   "outputs": [],
   "source": [
    "(images, labels, handle,\n",
    "   training_iterator, heldout_iterator) = build_input_pipeline(\n",
    "       mnist_data, FLAGS.batch_size, mnist_data.validation.num_examples)"
   ]
  },
  {
   "cell_type": "code",
   "execution_count": 7,
   "metadata": {
    "collapsed": true
   },
   "outputs": [],
   "source": [
    "def make_mixture_prior_fn(mixture_components):\n",
    "  \"\"\"Creates the mixture of Gaussians prior distribution.\n",
    "  Args:\n",
    "    mixture_components: Number of elements of the mixture.\n",
    "  Returns:\n",
    "    random_prior_fn: A callable like tfp.layers.default_multivariate_normal_fn which returns an instance of a prior distribution.\n",
    "  \"\"\"\n",
    "  if mixture_components == 1:\n",
    "    # See the module docstring for why we don't learn the parameters here.\n",
    "    # default_mvn_fn returns a standard non-trainable MVN\n",
    "    return tfp.layers.default_multivariate_normal_fn\n",
    "\n",
    "  def _random_prior_fn(dtype, shape, name, trainable, add_variable_fn):\n",
    "    # signature matches tfp.layers.default_multivariate_normal_fn\n",
    "#    loc = add_variable_fn(\n",
    "#       name=name + \"/loc\", shape=[mixture_components,] + list(shape),  trainable=trainable)\n",
    "#    raw_scale_diag = add_variable_fn(\n",
    "#       name=name+\"/scale\", shape=[mixture_components,] + list(shape), trainable=trainable)\n",
    "    loc = add_variable_fn(\n",
    "        name=name + \"/loc\", shape=list(shape) + [mixture_components,],  trainable=trainable)\n",
    "    raw_scale_diag = add_variable_fn(\n",
    "        name=name+\"/scale\", shape=list(shape) + [mixture_components,], trainable=trainable)\n",
    "    mixture_logits = add_variable_fn(\n",
    "        name=name+\"/logit\", shape=[mixture_components], trainable=trainable)\n",
    "\n",
    "    return tfd.MixtureSameFamily(\n",
    "        components_distribution=tfd.MultivariateNormalDiag(\n",
    "            loc=loc,\n",
    "            scale_diag=tf.nn.softplus(raw_scale_diag)),\n",
    "        mixture_distribution=tfd.Categorical(logits=mixture_logits),\n",
    "        name=\"prior\")\n",
    "  return _random_prior_fn"
   ]
  },
  {
   "cell_type": "code",
   "execution_count": 22,
   "metadata": {
    "collapsed": true
   },
   "outputs": [],
   "source": [
    "mixture_components = 1"
   ]
  },
  {
   "cell_type": "code",
   "execution_count": 24,
   "metadata": {
    "collapsed": false
   },
   "outputs": [],
   "source": [
    "with tf.name_scope(\"bayesian_neural_net\", values=[images]):\n",
    "    neural_net = tf.keras.Sequential([\n",
    "        tfp.layers.Convolution2DFlipout(2,\n",
    "                                        kernel_size=5,\n",
    "                                        padding=\"SAME\",\n",
    "                                        activation=tf.nn.relu,\n",
    "            kernel_prior_fn=make_mixture_prior_fn( mixture_components)),\n",
    "        tf.keras.layers.MaxPooling2D(pool_size=[2, 2],\n",
    "                                     strides=[2, 2],\n",
    "                                     padding=\"SAME\"),\n",
    "        tf.keras.layers.Flatten(),\n",
    "        tfp.layers.DenseFlipout(84, activation=tf.nn.relu),\n",
    "        tfp.layers.DenseFlipout(10)\n",
    "        ])\n",
    "\n",
    "    logits = neural_net(images)\n",
    "    labels_distribution = tfd.Categorical(logits=logits)"
   ]
  },
  {
   "cell_type": "code",
   "execution_count": 21,
   "metadata": {
    "collapsed": false
   },
   "outputs": [
    {
     "ename": "NotImplementedError",
     "evalue": "No KL(distribution_a || distribution_b) registered for distribution_a type Independent and distribution_b type MixtureSameFamily",
     "output_type": "error",
     "traceback": [
      "\u001b[0;31m---------------------------------------------------------------------------\u001b[0m",
      "\u001b[0;31mNotImplementedError\u001b[0m                       Traceback (most recent call last)",
      "\u001b[0;32m<ipython-input-21-169efd7dae0d>\u001b[0m in \u001b[0;36m<module>\u001b[0;34m()\u001b[0m\n\u001b[1;32m     27\u001b[0m         ])\n\u001b[1;32m     28\u001b[0m \u001b[0;34m\u001b[0m\u001b[0m\n\u001b[0;32m---> 29\u001b[0;31m     \u001b[0mlogits\u001b[0m \u001b[0;34m=\u001b[0m \u001b[0mneural_net\u001b[0m\u001b[0;34m(\u001b[0m\u001b[0mimages\u001b[0m\u001b[0;34m)\u001b[0m\u001b[0;34m\u001b[0m\u001b[0m\n\u001b[0m\u001b[1;32m     30\u001b[0m     \u001b[0mlabels_distribution\u001b[0m \u001b[0;34m=\u001b[0m \u001b[0mtfd\u001b[0m\u001b[0;34m.\u001b[0m\u001b[0mCategorical\u001b[0m\u001b[0;34m(\u001b[0m\u001b[0mlogits\u001b[0m\u001b[0;34m=\u001b[0m\u001b[0mlogits\u001b[0m\u001b[0;34m)\u001b[0m\u001b[0;34m\u001b[0m\u001b[0m\n",
      "\u001b[0;32m/Users/karimimohammedbelhal/Desktop/ongoing/hostnfly/deeptech/lib/python2.7/site-packages/tensorflow/python/keras/engine/base_layer.pyc\u001b[0m in \u001b[0;36m__call__\u001b[0;34m(self, inputs, *args, **kwargs)\u001b[0m\n\u001b[1;32m    726\u001b[0m         \u001b[0;32mif\u001b[0m \u001b[0mall\u001b[0m\u001b[0;34m(\u001b[0m\u001b[0mhasattr\u001b[0m\u001b[0;34m(\u001b[0m\u001b[0mx\u001b[0m\u001b[0;34m,\u001b[0m \u001b[0;34m'shape'\u001b[0m\u001b[0;34m)\u001b[0m \u001b[0;32mfor\u001b[0m \u001b[0mx\u001b[0m \u001b[0;32min\u001b[0m \u001b[0minput_list\u001b[0m\u001b[0;34m)\u001b[0m\u001b[0;34m:\u001b[0m\u001b[0;34m\u001b[0m\u001b[0m\n\u001b[1;32m    727\u001b[0m           \u001b[0minput_shapes\u001b[0m \u001b[0;34m=\u001b[0m \u001b[0mnest\u001b[0m\u001b[0;34m.\u001b[0m\u001b[0mmap_structure\u001b[0m\u001b[0;34m(\u001b[0m\u001b[0;32mlambda\u001b[0m \u001b[0mx\u001b[0m\u001b[0;34m:\u001b[0m \u001b[0mx\u001b[0m\u001b[0;34m.\u001b[0m\u001b[0mshape\u001b[0m\u001b[0;34m,\u001b[0m \u001b[0minputs\u001b[0m\u001b[0;34m)\u001b[0m\u001b[0;34m\u001b[0m\u001b[0m\n\u001b[0;32m--> 728\u001b[0;31m         \u001b[0mself\u001b[0m\u001b[0;34m.\u001b[0m\u001b[0mbuild\u001b[0m\u001b[0;34m(\u001b[0m\u001b[0minput_shapes\u001b[0m\u001b[0;34m)\u001b[0m\u001b[0;34m\u001b[0m\u001b[0m\n\u001b[0m\u001b[1;32m    729\u001b[0m         \u001b[0mself\u001b[0m\u001b[0;34m.\u001b[0m\u001b[0mbuilt\u001b[0m \u001b[0;34m=\u001b[0m \u001b[0mTrue\u001b[0m\u001b[0;34m\u001b[0m\u001b[0m\n\u001b[1;32m    730\u001b[0m \u001b[0;34m\u001b[0m\u001b[0m\n",
      "\u001b[0;32m/Users/karimimohammedbelhal/Desktop/ongoing/hostnfly/deeptech/lib/python2.7/site-packages/tensorflow/python/training/checkpointable/base.pyc\u001b[0m in \u001b[0;36m_method_wrapper\u001b[0;34m(self, *args, **kwargs)\u001b[0m\n\u001b[1;32m    362\u001b[0m     \u001b[0mself\u001b[0m\u001b[0;34m.\u001b[0m\u001b[0m_setattr_tracking\u001b[0m \u001b[0;34m=\u001b[0m \u001b[0mFalse\u001b[0m  \u001b[0;31m# pylint: disable=protected-access\u001b[0m\u001b[0;34m\u001b[0m\u001b[0m\n\u001b[1;32m    363\u001b[0m     \u001b[0;32mtry\u001b[0m\u001b[0;34m:\u001b[0m\u001b[0;34m\u001b[0m\u001b[0m\n\u001b[0;32m--> 364\u001b[0;31m       \u001b[0mmethod\u001b[0m\u001b[0;34m(\u001b[0m\u001b[0mself\u001b[0m\u001b[0;34m,\u001b[0m \u001b[0;34m*\u001b[0m\u001b[0margs\u001b[0m\u001b[0;34m,\u001b[0m \u001b[0;34m**\u001b[0m\u001b[0mkwargs\u001b[0m\u001b[0;34m)\u001b[0m\u001b[0;34m\u001b[0m\u001b[0m\n\u001b[0m\u001b[1;32m    365\u001b[0m     \u001b[0;32mfinally\u001b[0m\u001b[0;34m:\u001b[0m\u001b[0;34m\u001b[0m\u001b[0m\n\u001b[1;32m    366\u001b[0m       \u001b[0mself\u001b[0m\u001b[0;34m.\u001b[0m\u001b[0m_setattr_tracking\u001b[0m \u001b[0;34m=\u001b[0m \u001b[0mprevious_value\u001b[0m  \u001b[0;31m# pylint: disable=protected-access\u001b[0m\u001b[0;34m\u001b[0m\u001b[0m\n",
      "\u001b[0;32m/Users/karimimohammedbelhal/Desktop/ongoing/hostnfly/deeptech/lib/python2.7/site-packages/tensorflow/python/keras/engine/sequential.pyc\u001b[0m in \u001b[0;36mbuild\u001b[0;34m(self, input_shape)\u001b[0m\n\u001b[1;32m    223\u001b[0m       \u001b[0mself\u001b[0m\u001b[0;34m.\u001b[0m\u001b[0minputs\u001b[0m \u001b[0;34m=\u001b[0m \u001b[0;34m[\u001b[0m\u001b[0mx\u001b[0m\u001b[0;34m]\u001b[0m\u001b[0;34m\u001b[0m\u001b[0m\n\u001b[1;32m    224\u001b[0m       \u001b[0;32mfor\u001b[0m \u001b[0mlayer\u001b[0m \u001b[0;32min\u001b[0m \u001b[0mself\u001b[0m\u001b[0;34m.\u001b[0m\u001b[0m_layers\u001b[0m\u001b[0;34m:\u001b[0m\u001b[0;34m\u001b[0m\u001b[0m\n\u001b[0;32m--> 225\u001b[0;31m         \u001b[0mx\u001b[0m \u001b[0;34m=\u001b[0m \u001b[0mlayer\u001b[0m\u001b[0;34m(\u001b[0m\u001b[0mx\u001b[0m\u001b[0;34m)\u001b[0m\u001b[0;34m\u001b[0m\u001b[0m\n\u001b[0m\u001b[1;32m    226\u001b[0m       \u001b[0mself\u001b[0m\u001b[0;34m.\u001b[0m\u001b[0moutputs\u001b[0m \u001b[0;34m=\u001b[0m \u001b[0;34m[\u001b[0m\u001b[0mx\u001b[0m\u001b[0;34m]\u001b[0m\u001b[0;34m\u001b[0m\u001b[0m\n\u001b[1;32m    227\u001b[0m       \u001b[0;31m# Make sure that the model's input shape will be preserved during\u001b[0m\u001b[0;34m\u001b[0m\u001b[0;34m\u001b[0m\u001b[0m\n",
      "\u001b[0;32m/Users/karimimohammedbelhal/Desktop/ongoing/hostnfly/deeptech/lib/python2.7/site-packages/tensorflow/python/keras/engine/base_layer.pyc\u001b[0m in \u001b[0;36m__call__\u001b[0;34m(self, inputs, *args, **kwargs)\u001b[0m\n\u001b[1;32m    734\u001b[0m \u001b[0;34m\u001b[0m\u001b[0m\n\u001b[1;32m    735\u001b[0m       \u001b[0;32mif\u001b[0m \u001b[0;32mnot\u001b[0m \u001b[0min_deferred_mode\u001b[0m\u001b[0;34m:\u001b[0m\u001b[0;34m\u001b[0m\u001b[0m\n\u001b[0;32m--> 736\u001b[0;31m         \u001b[0moutputs\u001b[0m \u001b[0;34m=\u001b[0m \u001b[0mself\u001b[0m\u001b[0;34m.\u001b[0m\u001b[0mcall\u001b[0m\u001b[0;34m(\u001b[0m\u001b[0minputs\u001b[0m\u001b[0;34m,\u001b[0m \u001b[0;34m*\u001b[0m\u001b[0margs\u001b[0m\u001b[0;34m,\u001b[0m \u001b[0;34m**\u001b[0m\u001b[0mkwargs\u001b[0m\u001b[0;34m)\u001b[0m\u001b[0;34m\u001b[0m\u001b[0m\n\u001b[0m\u001b[1;32m    737\u001b[0m         \u001b[0;32mif\u001b[0m \u001b[0moutputs\u001b[0m \u001b[0;32mis\u001b[0m \u001b[0mNone\u001b[0m\u001b[0;34m:\u001b[0m\u001b[0;34m\u001b[0m\u001b[0m\n\u001b[1;32m    738\u001b[0m           raise ValueError('A layer\\'s `call` method should return a Tensor '\n",
      "\u001b[0;32m/Users/karimimohammedbelhal/Desktop/ongoing/hostnfly/deeptech/lib/python2.7/site-packages/tensorflow_probability/python/layers/conv_variational.pyc\u001b[0m in \u001b[0;36mcall\u001b[0;34m(self, inputs)\u001b[0m\n\u001b[1;32m    254\u001b[0m                              \u001b[0mself\u001b[0m\u001b[0;34m.\u001b[0m\u001b[0mkernel_prior\u001b[0m\u001b[0;34m,\u001b[0m\u001b[0;34m\u001b[0m\u001b[0m\n\u001b[1;32m    255\u001b[0m                              \u001b[0mself\u001b[0m\u001b[0;34m.\u001b[0m\u001b[0mkernel_posterior_tensor\u001b[0m\u001b[0;34m,\u001b[0m\u001b[0;34m\u001b[0m\u001b[0m\n\u001b[0;32m--> 256\u001b[0;31m                              name='divergence_kernel')\n\u001b[0m\u001b[1;32m    257\u001b[0m       \u001b[0mself\u001b[0m\u001b[0;34m.\u001b[0m\u001b[0m_built_kernel_divergence\u001b[0m \u001b[0;34m=\u001b[0m \u001b[0mTrue\u001b[0m\u001b[0;34m\u001b[0m\u001b[0m\n\u001b[1;32m    258\u001b[0m     \u001b[0;32mif\u001b[0m \u001b[0;32mnot\u001b[0m \u001b[0mself\u001b[0m\u001b[0;34m.\u001b[0m\u001b[0m_built_bias_divergence\u001b[0m\u001b[0;34m:\u001b[0m\u001b[0;34m\u001b[0m\u001b[0m\n",
      "\u001b[0;32m/Users/karimimohammedbelhal/Desktop/ongoing/hostnfly/deeptech/lib/python2.7/site-packages/tensorflow_probability/python/layers/conv_variational.pyc\u001b[0m in \u001b[0;36m_apply_divergence\u001b[0;34m(self, divergence_fn, posterior, prior, posterior_tensor, name)\u001b[0m\n\u001b[1;32m    425\u001b[0m       \u001b[0;32mreturn\u001b[0m\u001b[0;34m\u001b[0m\u001b[0m\n\u001b[1;32m    426\u001b[0m     divergence = tf.identity(\n\u001b[0;32m--> 427\u001b[0;31m         \u001b[0mdivergence_fn\u001b[0m\u001b[0;34m(\u001b[0m\u001b[0mposterior\u001b[0m\u001b[0;34m,\u001b[0m \u001b[0mprior\u001b[0m\u001b[0;34m,\u001b[0m \u001b[0mposterior_tensor\u001b[0m\u001b[0;34m)\u001b[0m\u001b[0;34m,\u001b[0m\u001b[0;34m\u001b[0m\u001b[0m\n\u001b[0m\u001b[1;32m    428\u001b[0m         name=name)\n\u001b[1;32m    429\u001b[0m     \u001b[0mself\u001b[0m\u001b[0;34m.\u001b[0m\u001b[0madd_loss\u001b[0m\u001b[0;34m(\u001b[0m\u001b[0mdivergence\u001b[0m\u001b[0;34m)\u001b[0m\u001b[0;34m\u001b[0m\u001b[0m\n",
      "\u001b[0;32m/Users/karimimohammedbelhal/Desktop/ongoing/hostnfly/deeptech/lib/python2.7/site-packages/tensorflow_probability/python/layers/conv_variational.pyc\u001b[0m in \u001b[0;36m<lambda>\u001b[0;34m(q, p, ignore)\u001b[0m\n\u001b[1;32m   1462\u001b[0m       \u001b[0mkernel_posterior_tensor_fn\u001b[0m\u001b[0;34m=\u001b[0m\u001b[0;32mlambda\u001b[0m \u001b[0md\u001b[0m\u001b[0;34m:\u001b[0m \u001b[0md\u001b[0m\u001b[0;34m.\u001b[0m\u001b[0msample\u001b[0m\u001b[0;34m(\u001b[0m\u001b[0;34m)\u001b[0m\u001b[0;34m,\u001b[0m\u001b[0;34m\u001b[0m\u001b[0m\n\u001b[1;32m   1463\u001b[0m       \u001b[0mkernel_prior_fn\u001b[0m\u001b[0;34m=\u001b[0m\u001b[0mtfp_layers_util\u001b[0m\u001b[0;34m.\u001b[0m\u001b[0mdefault_multivariate_normal_fn\u001b[0m\u001b[0;34m,\u001b[0m\u001b[0;34m\u001b[0m\u001b[0m\n\u001b[0;32m-> 1464\u001b[0;31m       \u001b[0mkernel_divergence_fn\u001b[0m\u001b[0;34m=\u001b[0m\u001b[0;32mlambda\u001b[0m \u001b[0mq\u001b[0m\u001b[0;34m,\u001b[0m \u001b[0mp\u001b[0m\u001b[0;34m,\u001b[0m \u001b[0mignore\u001b[0m\u001b[0;34m:\u001b[0m \u001b[0mtfd\u001b[0m\u001b[0;34m.\u001b[0m\u001b[0mkl_divergence\u001b[0m\u001b[0;34m(\u001b[0m\u001b[0mq\u001b[0m\u001b[0;34m,\u001b[0m \u001b[0mp\u001b[0m\u001b[0;34m)\u001b[0m\u001b[0;34m,\u001b[0m\u001b[0;34m\u001b[0m\u001b[0m\n\u001b[0m\u001b[1;32m   1465\u001b[0m       \u001b[0mbias_posterior_fn\u001b[0m\u001b[0;34m=\u001b[0m\u001b[0mtfp_layers_util\u001b[0m\u001b[0;34m.\u001b[0m\u001b[0mdefault_mean_field_normal_fn\u001b[0m\u001b[0;34m(\u001b[0m\u001b[0mis_singular\u001b[0m\u001b[0;34m=\u001b[0m\u001b[0mTrue\u001b[0m\u001b[0;34m)\u001b[0m\u001b[0;34m,\u001b[0m  \u001b[0;31m# pylint: disable=line-too-long\u001b[0m\u001b[0;34m\u001b[0m\u001b[0m\n\u001b[1;32m   1466\u001b[0m       \u001b[0mbias_posterior_tensor_fn\u001b[0m\u001b[0;34m=\u001b[0m\u001b[0;32mlambda\u001b[0m \u001b[0md\u001b[0m\u001b[0;34m:\u001b[0m \u001b[0md\u001b[0m\u001b[0;34m.\u001b[0m\u001b[0msample\u001b[0m\u001b[0;34m(\u001b[0m\u001b[0;34m)\u001b[0m\u001b[0;34m,\u001b[0m\u001b[0;34m\u001b[0m\u001b[0m\n",
      "\u001b[0;32m/Users/karimimohammedbelhal/Desktop/ongoing/hostnfly/deeptech/lib/python2.7/site-packages/tensorflow/python/ops/distributions/kullback_leibler.pyc\u001b[0m in \u001b[0;36mkl_divergence\u001b[0;34m(distribution_a, distribution_b, allow_nan_stats, name)\u001b[0m\n\u001b[1;32m     93\u001b[0m         \u001b[0;34m\"No KL(distribution_a || distribution_b) registered for distribution_a \"\u001b[0m\u001b[0;34m\u001b[0m\u001b[0m\n\u001b[1;32m     94\u001b[0m         \u001b[0;34m\"type %s and distribution_b type %s\"\u001b[0m\u001b[0;34m\u001b[0m\u001b[0m\n\u001b[0;32m---> 95\u001b[0;31m         % (type(distribution_a).__name__, type(distribution_b).__name__))\n\u001b[0m\u001b[1;32m     96\u001b[0m \u001b[0;34m\u001b[0m\u001b[0m\n\u001b[1;32m     97\u001b[0m   \u001b[0;32mwith\u001b[0m \u001b[0mops\u001b[0m\u001b[0;34m.\u001b[0m\u001b[0mname_scope\u001b[0m\u001b[0;34m(\u001b[0m\u001b[0;34m\"KullbackLeibler\"\u001b[0m\u001b[0;34m)\u001b[0m\u001b[0;34m:\u001b[0m\u001b[0;34m\u001b[0m\u001b[0m\n",
      "\u001b[0;31mNotImplementedError\u001b[0m: No KL(distribution_a || distribution_b) registered for distribution_a type Independent and distribution_b type MixtureSameFamily"
     ]
    }
   ],
   "source": [
    "with tf.name_scope(\"bayesian_neural_net\", values=[images]):\n",
    "    neural_net = tf.keras.Sequential([\n",
    "        tfp.layers.Convolution2DFlipout(6,\n",
    "                                        kernel_size=5,\n",
    "                                        padding=\"SAME\",\n",
    "                                        activation=tf.nn.relu,\n",
    "            kernel_prior_fn=make_mixture_prior_fn( mixture_components)),\n",
    "        tf.keras.layers.MaxPooling2D(pool_size=[2, 2],\n",
    "                                     strides=[2, 2],\n",
    "                                     padding=\"SAME\"),\n",
    "        tfp.layers.Convolution2DFlipout(16,\n",
    "                                        kernel_size=5,\n",
    "                                        padding=\"SAME\",\n",
    "                                        activation=tf.nn.relu,\n",
    "            kernel_prior_fn=make_mixture_prior_fn( mixture_components)),\n",
    "        tf.keras.layers.MaxPooling2D(pool_size=[2, 2],\n",
    "                                     strides=[2, 2],\n",
    "                                     padding=\"SAME\"),\n",
    "        tfp.layers.Convolution2DFlipout(120,\n",
    "                                        kernel_size=5,\n",
    "                                        padding=\"SAME\",\n",
    "                                        activation=tf.nn.relu,\n",
    "            kernel_prior_fn=make_mixture_prior_fn( mixture_components)),\n",
    "        tf.keras.layers.Flatten(),\n",
    "        tfp.layers.DenseFlipout(84, activation=tf.nn.relu),\n",
    "        tfp.layers.DenseFlipout(10)\n",
    "        ])\n",
    "\n",
    "    logits = neural_net(images)\n",
    "    labels_distribution = tfd.Categorical(logits=logits)"
   ]
  },
  {
   "cell_type": "code",
   "execution_count": 67,
   "metadata": {
    "collapsed": false
   },
   "outputs": [],
   "source": [
    "neg_log_likelihood = -tf.reduce_mean(labels_distribution.log_prob(labels))\n",
    "kl = sum(neural_net.losses) / mnist_data.train.num_examples\n",
    "elbo_loss = neg_log_likelihood + kl"
   ]
  },
  {
   "cell_type": "code",
   "execution_count": 68,
   "metadata": {
    "collapsed": false
   },
   "outputs": [],
   "source": [
    "#neg_log_likelihood = tf.nn.softmax_cross_entropy_with_logits(\n",
    "#    labels=labels, logits=logits)\n",
    "#kl = sum(neural_net.get_losses_for(inputs=None))\n",
    "#elbo_loss = neg_log_likelihood + kl"
   ]
  },
  {
   "cell_type": "code",
   "execution_count": 69,
   "metadata": {
    "collapsed": true
   },
   "outputs": [],
   "source": [
    "#Some params\n",
    "total = mnist_data.train.num_examples\n",
    "epoch_num = 2\n",
    "N =  FLAGS.batch_size"
   ]
  },
  {
   "cell_type": "code",
   "execution_count": 70,
   "metadata": {
    "collapsed": true
   },
   "outputs": [],
   "source": [
    "predictions = tf.argmax(logits, axis=1)\n",
    "accuracy, accuracy_update_op = tf.metrics.accuracy(labels=labels, predictions=predictions)"
   ]
  },
  {
   "cell_type": "markdown",
   "metadata": {},
   "source": [
    "# ADAM"
   ]
  },
  {
   "cell_type": "code",
   "execution_count": 58,
   "metadata": {
    "collapsed": true
   },
   "outputs": [],
   "source": [
    "names = []\n",
    "qmeans = []\n",
    "qstds = []\n",
    "for i, layer in enumerate(neural_net.layers):\n",
    "    try:\n",
    "        q = layer.kernel_posterior\n",
    "    except AttributeError:\n",
    "        continue\n",
    "    names.append(\"Layer {}\".format(i))\n",
    "    qmeans.append(q.mean())\n",
    "    qstds.append(q.stddev())\n",
    "\n",
    "with tf.name_scope(\"train\"):\n",
    "    optimizer = tf.train.AdamOptimizer(learning_rate=FLAGS.learning_rate)\n",
    "    train_op = optimizer.minimize(elbo_loss)\n",
    "init_op = tf.group(tf.global_variables_initializer(),\n",
    "                     tf.local_variables_initializer())"
   ]
  },
  {
   "cell_type": "code",
   "execution_count": 59,
   "metadata": {
    "collapsed": true
   },
   "outputs": [],
   "source": [
    "train_lossadam = np.zeros(FLAGS.max_steps)\n",
    "train_accadam = np.zeros(FLAGS.max_steps)"
   ]
  },
  {
   "cell_type": "code",
   "execution_count": 60,
   "metadata": {
    "collapsed": true
   },
   "outputs": [],
   "source": [
    "sess = tf.InteractiveSession()"
   ]
  },
  {
   "cell_type": "code",
   "execution_count": 61,
   "metadata": {
    "collapsed": true
   },
   "outputs": [],
   "source": [
    "sess.run(init_op)\n",
    "\n",
    "# Run the training loop.\n",
    "train_handle = sess.run(training_iterator.string_handle())\n",
    "heldout_handle = sess.run(heldout_iterator.string_handle())"
   ]
  },
  {
   "cell_type": "code",
   "execution_count": 13,
   "metadata": {
    "collapsed": true
   },
   "outputs": [],
   "source": [
    "#for step in range(FLAGS.max_steps):\n",
    "for step in range(10):\n",
    "    _ = sess.run([train_op, accuracy_update_op],feed_dict={handle: train_handle})\n",
    "    train_lossadam[step],train_accadam[step] = sess.run([elbo_loss, accuracy],feed_dict={handle: train_handle})"
   ]
  },
  {
   "cell_type": "code",
   "execution_count": 16,
   "metadata": {
    "collapsed": false
   },
   "outputs": [],
   "source": [
    "adam = train_lossadam[0:100]\n",
    "#save loss\n",
    "with open('newlosses/adamloss', 'wb') as fp:\n",
    "    pickle.dump(adam, fp)"
   ]
  },
  {
   "cell_type": "code",
   "execution_count": 35,
   "metadata": {
    "collapsed": false,
    "scrolled": true
   },
   "outputs": [
    {
     "data": {
      "image/png": "[encoded data removed]",
      "text/plain": [
       "<matplotlib.figure.Figure at 0x1205a4fd0>"
      ]
     },
     "metadata": {},
     "output_type": "display_data"
    }
   ],
   "source": [
    "X_batch, Y_batch = mnist_data.train.next_batch(FLAGS.batch_size)\n",
    "display_draws(train_lossadam[0:10,], X_batch, 10)"
   ]
  },
  {
   "cell_type": "markdown",
   "metadata": {},
   "source": [
    "# BayesByBackprop"
   ]
  },
  {
   "cell_type": "code",
   "execution_count": 63,
   "metadata": {
    "collapsed": true
   },
   "outputs": [],
   "source": [
    "names = []\n",
    "qmeans = []\n",
    "qstds = []\n",
    "for i, layer in enumerate(neural_net.layers):\n",
    "    try:\n",
    "        q = layer.kernel_posterior\n",
    "    except AttributeError:\n",
    "        continue\n",
    "    names.append(\"Layer {}\".format(i))\n",
    "    qmeans.append(q.mean())\n",
    "    qstds.append(q.stddev())\n",
    "\n",
    "with tf.name_scope(\"train\"):\n",
    "    optimizer = tf.train.GradientDescentOptimizer(learning_rate=FLAGS.learning_rate)\n",
    "    train_op = optimizer.minimize(elbo_loss)\n",
    "init_op = tf.group(tf.global_variables_initializer(),\n",
    "                     tf.local_variables_initializer())"
   ]
  },
  {
   "cell_type": "code",
   "execution_count": 64,
   "metadata": {
    "collapsed": true
   },
   "outputs": [],
   "source": [
    "train_lossbbb = np.zeros(FLAGS.max_steps)\n",
    "train_accbbb = np.zeros(FLAGS.max_steps)"
   ]
  },
  {
   "cell_type": "code",
   "execution_count": 65,
   "metadata": {
    "collapsed": true
   },
   "outputs": [],
   "source": [
    "sess = tf.InteractiveSession()"
   ]
  },
  {
   "cell_type": "code",
   "execution_count": 66,
   "metadata": {
    "collapsed": true
   },
   "outputs": [],
   "source": [
    "sess.run(init_op)\n",
    "\n",
    "# Run the training loop.\n",
    "train_handle = sess.run(training_iterator.string_handle())\n",
    "heldout_handle = sess.run(heldout_iterator.string_handle())"
   ]
  },
  {
   "cell_type": "code",
   "execution_count": 67,
   "metadata": {
    "collapsed": true
   },
   "outputs": [],
   "source": [
    "#for step in range(FLAGS.max_steps):\n",
    "for step in range(10):\n",
    "    _ = sess.run([train_op, accuracy_update_op],feed_dict={handle: train_handle})\n",
    "    train_lossbbb[step],train_accbbb[step] = sess.run([elbo_loss, accuracy],feed_dict={handle: train_handle})"
   ]
  },
  {
   "cell_type": "code",
   "execution_count": 69,
   "metadata": {
    "collapsed": true
   },
   "outputs": [],
   "source": [
    "bbb = train_lossbbb[0:100]\n",
    "#save loss\n",
    "with open('newlosses/bbbloss', 'wb') as fp:\n",
    "    pickle.dump(bbb, fp)"
   ]
  },
  {
   "cell_type": "code",
   "execution_count": 70,
   "metadata": {
    "collapsed": false
   },
   "outputs": [
    {
     "data": {
      "image/png": "[encoded data removed]",
      "text/plain": [
       "<matplotlib.figure.Figure at 0x330cff490>"
      ]
     },
     "metadata": {},
     "output_type": "display_data"
    }
   ],
   "source": [
    "X_batch, Y_batch = mnist_data.train.next_batch(FLAGS.batch_size)\n",
    "display_draws(train_lossbbb[0:10,], X_batch, 10)"
   ]
  },
  {
   "cell_type": "code",
   "execution_count": 39,
   "metadata": {
    "collapsed": false
   },
   "outputs": [
    {
     "data": {
      "image/png": "[encoded data removed]",
      "text/plain": [
       "<matplotlib.figure.Figure at 0x12dce81d0>"
      ]
     },
     "metadata": {},
     "output_type": "display_data"
    }
   ],
   "source": [
    "X_batch, Y_batch = mnist_data.train.next_batch(FLAGS.batch_size)\n",
    "display_draws(train_lossbbb[0:10,], X_batch, 10)"
   ]
  },
  {
   "cell_type": "code",
   "execution_count": 40,
   "metadata": {
    "collapsed": false
   },
   "outputs": [
    {
     "data": {
      "image/png": "[encoded data removed]",
      "text/plain": [
       "<matplotlib.figure.Figure at 0x14257c550>"
      ]
     },
     "metadata": {},
     "output_type": "display_data"
    }
   ],
   "source": [
    "fig, axes = plt.subplots(nrows=1, ncols=1, figsize=(16, 3.5))\n",
    "plt.plot(np.arange(10), train_lossadam[0:10,] / len(X_batch), label='ADAM')\n",
    "plt.plot(np.arange(10), train_lossbbb[0:10,] / len(X_batch), label='BBB')\n",
    "leg = plt.legend(fontsize=20,fancybox=True, loc='right')\n",
    "leg.get_frame().set_alpha(0.5)\n",
    "plt.xlabel('Epoch', fontsize=15)\n",
    "plt.ylabel('Negated ELBO', fontsize=15)\n",
    "plt.show()"
   ]
  },
  {
   "cell_type": "markdown",
   "metadata": {},
   "source": [
    "# MISSO"
   ]
  },
  {
   "cell_type": "code",
   "execution_count": 71,
   "metadata": {
    "collapsed": true
   },
   "outputs": [],
   "source": [
    "names = []\n",
    "qmeans = []\n",
    "qstds = []\n",
    "for i, layer in enumerate(neural_net.layers):\n",
    "    try:\n",
    "        q = layer.kernel_posterior\n",
    "    except AttributeError:\n",
    "        continue\n",
    "    names.append(\"Layer {}\".format(i))\n",
    "    qmeans.append(q.mean())\n",
    "    qstds.append(q.stddev())\n",
    "\n",
    "with tf.name_scope(\"train\"):\n",
    "    optimizer = tf.train.GradientDescentOptimizer(learning_rate=FLAGS.learning_rate)\n",
    "    train_op = optimizer.minimize(elbo_loss)\n",
    "init_op = tf.group(tf.global_variables_initializer(),\n",
    "                     tf.local_variables_initializer())"
   ]
  },
  {
   "cell_type": "code",
   "execution_count": 72,
   "metadata": {
    "collapsed": true
   },
   "outputs": [],
   "source": [
    "train_lossmisso = np.zeros(FLAGS.max_steps)\n",
    "train_accmisso = np.zeros(FLAGS.max_steps)"
   ]
  },
  {
   "cell_type": "code",
   "execution_count": 73,
   "metadata": {
    "collapsed": true
   },
   "outputs": [],
   "source": [
    "sess = tf.InteractiveSession()\n",
    "sess.run(init_op)\n",
    "\n",
    "# Run the training loop.\n",
    "train_handle = sess.run(training_iterator.string_handle())\n",
    "heldout_handle = sess.run(heldout_iterator.string_handle())"
   ]
  },
  {
   "cell_type": "code",
   "execution_count": 74,
   "metadata": {
    "collapsed": true
   },
   "outputs": [],
   "source": [
    "newloss,newacc = sess.run([elbo_loss, accuracy],feed_dict={handle: train_handle})"
   ]
  },
  {
   "cell_type": "code",
   "execution_count": 97,
   "metadata": {
    "collapsed": false,
    "scrolled": true
   },
   "outputs": [
    {
     "name": "stdout",
     "output_type": "stream",
     "text": [
      "0\n",
      "1\n",
      "2\n",
      "3\n",
      "4\n",
      "5\n",
      "6\n",
      "7\n",
      "8\n",
      "9\n"
     ]
    }
   ],
   "source": [
    "#First pass over the data with SGD (keeping in memory all the gradients)\n",
    "gradients = []\n",
    "#for _ in range(0,total, N):\n",
    "for _ in range(10):\n",
    "    print(_)\n",
    "    grads = tf.gradients(elbo_loss, tf.trainable_variables())\n",
    "    var_updates = []\n",
    "    var_list = tf.trainable_variables()\n",
    "    for grad, var in zip(grads, var_list):\n",
    "        var_updates.append(var.assign_sub(FLAGS.learning_rate * grad))\n",
    "    train_op = tf.group(*var_updates)\n",
    "    gradients.append(grads)\n",
    "    sess.run(train_op,feed_dict={handle: train_handle})\n",
    "        \n",
    "train_lossmisso[0],train_accbbb[0] = sess.run([elbo_loss, accuracy],feed_dict={handle: train_handle})"
   ]
  },
  {
   "cell_type": "code",
   "execution_count": null,
   "metadata": {
    "collapsed": true
   },
   "outputs": [],
   "source": [
    "for epoch in range(1,epoch_num):\n",
    "    for i in range(0,total/N):\n",
    "        print(epoch)\n",
    "        X_batch, Y_batch = mnist.train.next_batch(N)\n",
    "        # TensorFlow method gives the label data in a one hot vetor format. We convert that into a single label.\n",
    "        Y_batch = np.argmax(Y_batch,axis=1)\n",
    "        grads = tf.gradients(elbo_loss, tf.trainable_variables())\n",
    "        gradients[i] = grads\n",
    "        var_updates = []\n",
    "        var_list = tf.trainable_variables()\n",
    "        for gradstemp in gradients:\n",
    "            for grad, var in zip(gradstemp, var_list):\n",
    "                var_updates.append(var.assign_sub(learning_rate * grad))\n",
    "        train_op = tf.group(*var_updates)\n",
    "        sess.run([train_op, accuracy_update_op],feed_dict={handle: train_handle})\n",
    "        #info_dict = inference.update(feed_dict={x: X_batch, y_ph: Y_batch})\n",
    "        \n",
    "    train_lossmisso[step],train_accbbb[step] = sess.run([elbo_loss, accuracy],feed_dict={handle: train_handle})"
   ]
  },
  {
   "cell_type": "code",
   "execution_count": null,
   "metadata": {
    "collapsed": true
   },
   "outputs": [],
   "source": [
    "misso = train_lossmisso[0:100]\n",
    "#save loss\n",
    "with open('newlosses/missoloss', 'wb') as fp:\n",
    "    pickle.dump(misso, fp)"
   ]
  },
  {
   "cell_type": "code",
   "execution_count": null,
   "metadata": {
    "collapsed": true
   },
   "outputs": [],
   "source": []
  }
 ],
 "metadata": {
  "kernelspec": {
   "display_name": "deeptech",
   "language": "python",
   "name": "deeptech"
  },
  "language_info": {
   "codemirror_mode": {
    "name": "ipython",
    "version": 2
   },
   "file_extension": ".py",
   "mimetype": "text/x-python",
   "name": "python",
   "nbconvert_exporter": "python",
   "pygments_lexer": "ipython2",
   "version": "2.7.10"
  }
 },
 "nbformat": 4,
 "nbformat_minor": 2
}
