{
 "cells": [
  {
   "cell_type": "code",
   "execution_count": 19,
   "metadata": {},
   "outputs": [],
   "source": [
    "import matplotlib\n",
    "import torch\n",
    "from torchcontrib.optim import SWA"
   ]
  },
  {
   "cell_type": "code",
   "execution_count": 20,
   "metadata": {},
   "outputs": [],
   "source": [
    "## import matplotlib.pyplot as plt\n",
    "import matplotlib\n",
    "%matplotlib inline\n",
    "#matplotlib.use(\"Agg\")\n",
    "from matplotlib import figure  # pylint: disable=g-import-not-at-top\n",
    "from matplotlib.backends import backend_agg\n",
    "import numpy as np\n",
    "import tensorflow as tf\n",
    "import tensorflow_probability as tfp\n",
    "try:\n",
    "  import seaborn as sns  # pylint: disable=g-import-not-at-top\n",
    "  HAS_SEABORN = True\n",
    "except ImportError:\n",
    "  HAS_SEABORN = False\n",
    "\n",
    "tfd = tfp.distributions"
   ]
  },
  {
   "cell_type": "code",
   "execution_count": 21,
   "metadata": {},
   "outputs": [
    {
     "ename": "TypeError",
     "evalue": "'module' object is not callable",
     "output_type": "error",
     "traceback": [
      "\u001b[0;31m------------------------------------------------------------------\u001b[0m",
      "\u001b[0;31mTypeError\u001b[0m                        Traceback (most recent call last)",
      "\u001b[0;32m<ipython-input-21-0a109931e5be>\u001b[0m in \u001b[0;36m<module>\u001b[0;34m()\u001b[0m\n\u001b[1;32m      1\u001b[0m \u001b[0;31m#Model\u001b[0m\u001b[0;34m\u001b[0m\u001b[0;34m\u001b[0m\u001b[0m\n\u001b[0;32m----> 2\u001b[0;31m \u001b[0mmodel\u001b[0m \u001b[0;34m=\u001b[0m \u001b[0mtorch\u001b[0m\u001b[0;34m.\u001b[0m\u001b[0mnn\u001b[0m\u001b[0;34m(\u001b[0m\u001b[0;34m)\u001b[0m\u001b[0;34m\u001b[0m\u001b[0m\n\u001b[0m",
      "\u001b[0;31mTypeError\u001b[0m: 'module' object is not callable"
     ]
    }
   ],
   "source": [
    "#Model\n",
    "model = torch.nn()"
   ]
  },
  {
   "cell_type": "code",
   "execution_count": null,
   "metadata": {},
   "outputs": [],
   "source": []
  },
  {
   "cell_type": "code",
   "execution_count": null,
   "metadata": {},
   "outputs": [],
   "source": []
  },
  {
   "cell_type": "code",
   "execution_count": null,
   "metadata": {},
   "outputs": [],
   "source": [
    "base_opt = torch.optim.SGD(model.parameters(), lr=0.1)\n",
    "opt = torchcontrib.optim.SWA(base_opt, swa_start=10, swa_freq=5, swa_lr=0.05)\n",
    "for _ in range(100):\n",
    "    opt.zero_grad()\n",
    "    loss_fn(model(input), target).backward()\n",
    "    opt.step()\n",
    "opt.swap_swa_sgd()"
   ]
  },
  {
   "cell_type": "code",
   "execution_count": null,
   "metadata": {},
   "outputs": [],
   "source": []
  },
  {
   "cell_type": "code",
   "execution_count": null,
   "metadata": {},
   "outputs": [],
   "source": []
  },
  {
   "cell_type": "code",
   "execution_count": null,
   "metadata": {
    "collapsed": true
   },
   "outputs": [],
   "source": []
  },
  {
   "cell_type": "code",
   "execution_count": null,
   "metadata": {
    "collapsed": true
   },
   "outputs": [],
   "source": []
  },
  {
   "cell_type": "code",
   "execution_count": 14,
   "metadata": {},
   "outputs": [],
   "source": [
    "def make_mixture_posterior_fn(mixture_components):\n",
    "    \"\"\"\n",
    "    Creates the mixture of Gaussians posterior distribution.\n",
    "    \"\"\"\n",
    "    if mixture_components == 1:\n",
    "    # See the module docstring for why we don't learn the parameters here.\n",
    "    # default_mvn_fn returns a standard non-trainable MVN\n",
    "        return tfp.layers.default_multivariate_normal_fn\n",
    "    \n",
    "    def _random_posterior_fn(dtype, shape, name, trainable, add_variable_fn):\n",
    "    # signature matches tfp.layers.default_multivariate_normal_fn\n",
    "#    loc = add_variable_fn(\n",
    "#       name=name + \"/loc\", shape=[mixture_components,] + list(shape),  trainable=trainable)\n",
    "#    raw_scale_diag = add_variable_fn(\n",
    "#       name=name+\"/scale\", shape=[mixture_components,] + list(shape), trainable=trainable)\n",
    "    loc = add_variable_fn(\n",
    "        name=name + \"/loc\", shape=list(shape) + [mixture_components,],  trainable=trainable)\n",
    "    raw_scale_diag = add_variable_fn(\n",
    "        name=name+\"/scale\", shape=list(shape) + [mixture_components,], trainable=trainable)\n",
    "    mixture_logits = add_variable_fn(\n",
    "        name=name+\"/logit\", shape=[mixture_components], trainable=trainable)\n",
    "\n",
    "    return tfd.MixtureSameFamily(\n",
    "        components_distribution=tfd.MultivariateNormalDiag(\n",
    "            loc=loc,\n",
    "            scale_diag=tf.nn.softplus(raw_scale_diag)),\n",
    "        mixture_distribution=tfd.Categorical(logits=mixture_logits),\n",
    "        name=\"posterior\")\n",
    "  return _random_posterior_fn"
   ]
  },
  {
   "cell_type": "code",
   "execution_count": null,
   "metadata": {
    "collapsed": true
   },
   "outputs": [],
   "source": []
  },
  {
   "cell_type": "code",
   "execution_count": null,
   "metadata": {
    "collapsed": true
   },
   "outputs": [],
   "source": []
  }
 ],
 "metadata": {
  "kernelspec": {
   "display_name": "swa",
   "language": "python",
   "name": "swa"
  },
  "language_info": {
   "codemirror_mode": {
    "name": "ipython",
    "version": 2
   },
   "file_extension": ".py",
   "mimetype": "text/x-python",
   "name": "python",
   "nbconvert_exporter": "python",
   "pygments_lexer": "ipython2",
   "version": "2.7.14"
  }
 },
 "nbformat": 4,
 "nbformat_minor": 2
}
