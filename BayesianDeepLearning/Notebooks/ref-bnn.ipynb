{
 "cells": [
  {
   "cell_type": "code",
   "execution_count": 1,
   "metadata": {
    "collapsed": false
   },
   "outputs": [
    {
     "name": "stderr",
     "output_type": "stream",
     "text": [
      "/Users/karimimohammedbelhal/Desktop/ongoing/hostnfly/deeptech/lib/python2.7/site-packages/matplotlib/__init__.py:1405: UserWarning: \n",
      "This call to matplotlib.use() has no effect because the backend has already\n",
      "been chosen; matplotlib.use() must be called *before* pylab, matplotlib.pyplot,\n",
      "or matplotlib.backends is imported for the first time.\n",
      "\n",
      "  warnings.warn(_use_error_msg)\n",
      "/Users/karimimohammedbelhal/Desktop/ongoing/hostnfly/deeptech/lib/python2.7/site-packages/h5py/__init__.py:36: FutureWarning: Conversion of the second argument of issubdtype from `float` to `np.floating` is deprecated. In future, it will be treated as `np.float64 == np.dtype(float).type`.\n",
      "  from ._conv import register_converters as _register_converters\n"
     ]
    },
    {
     "data": {
      "text/plain": [
       "['/Users/karimimohammedbelhal/Desktop/ongoing/hostnfly/deeptech/lib/python2.7/site-packages/ipykernel_launcher.py',\n",
       " '-f',\n",
       " '/Users/karimimohammedbelhal/Library/Jupyter/runtime/kernel-fb9df607-0328-48bc-9906-d1d18cd93f47.json']"
      ]
     },
     "execution_count": 1,
     "metadata": {},
     "output_type": "execute_result"
    }
   ],
   "source": [
    "from __future__ import absolute_import\n",
    "from __future__ import division\n",
    "from __future__ import print_function\n",
    "\n",
    "import pickle\n",
    "import os\n",
    "import warnings\n",
    "import matplotlib.pyplot as plt\n",
    "# Dependency imports\n",
    "from absl import flags\n",
    "import matplotlib\n",
    "%matplotlib inline\n",
    "matplotlib.use(\"Agg\")\n",
    "from matplotlib import figure  # pylint: disable=g-import-not-at-top\n",
    "from matplotlib.backends import backend_agg\n",
    "import numpy as np\n",
    "import tensorflow as tf\n",
    "import tensorflow_probability as tfp\n",
    "\n",
    "from tensorflow.contrib.learn.python.learn.datasets import mnist\n",
    "\n",
    "# TODO(b/78137893): Integration tests currently fail with seaborn imports.\n",
    "warnings.simplefilter(action=\"ignore\")\n",
    "\n",
    "try:\n",
    "  import seaborn as sns  # pylint: disable=g-import-not-at-top\n",
    "  HAS_SEABORN = True\n",
    "except ImportError:\n",
    "  HAS_SEABORN = False\n",
    "\n",
    "tfd = tfp.distributions\n",
    "\n",
    "IMAGE_SHAPE = [28, 28, 1]\n",
    "\n",
    "flags.DEFINE_float(\"learning_rate\",\n",
    "                   default=0.001,\n",
    "                   help=\"Initial learning rate.\")\n",
    "flags.DEFINE_integer(\"max_steps\",\n",
    "                     default=300,\n",
    "                     help=\"Number of training steps to run.\")\n",
    "flags.DEFINE_integer(\"batch_size\",\n",
    "                     default=128,\n",
    "                     help=\"Batch size.\")\n",
    "flags.DEFINE_string(\"data_dir\",\n",
    "                    default=os.path.join(os.getenv(\"TEST_TMPDIR\", \"/tmp\"),\n",
    "                                         \"bayesian_neural_network/data\"),\n",
    "                    help=\"Directory where data is stored (if using real data).\")\n",
    "flags.DEFINE_string(\n",
    "    \"model_dir\",\n",
    "    default=os.path.join(os.getenv(\"TEST_TMPDIR\", \"/tmp\"),\n",
    "                         \"bayesian_neural_network/\"),\n",
    "    help=\"Directory to put the model's fit.\")\n",
    "flags.DEFINE_integer(\"viz_steps\",\n",
    "                     default=100,\n",
    "                     help=\"Frequency at which save visualizations.\")\n",
    "flags.DEFINE_integer(\"num_monte_carlo\",\n",
    "                     default=50,\n",
    "                     help=\"Network draws to compute predictive probabilities.\")\n",
    "flags.DEFINE_bool(\"fake_data\",\n",
    "                  default=None,\n",
    "                  help=\"If true, uses fake data. Defaults to real data.\")\n",
    "\n",
    "flags.DEFINE_integer(\n",
    "    \"mixture_components\",\n",
    "    default=10,\n",
    "    help=\"Number of mixture components to use in the prior. Each component is \"\n",
    "         \"a diagonal normal distribution. The parameters of the components are \"\n",
    "         \"intialized randomly, and then learned along with the rest of the \"\n",
    "         \"parameters. If `analytic_kl` is True, `mixture_components` must be \"\n",
    "         \"set to `1`.\")\n",
    "flags.DEFINE_bool(\n",
    "    \"analytic_kl\",\n",
    "    default=False,\n",
    "    help=\"Whether or not to use the analytic version of the KL. When set to \"\n",
    "         \"False the E_{Z~q(Z|X)}[log p(Z)p(X|Z) - log q(Z|X)] form of the ELBO \"\n",
    "         \"will be used. Otherwise the -KL(q(Z|X) || p(Z)) + \"\n",
    "         \"E_{Z~q(Z|X)}[log p(X|Z)] form will be used. If analytic_kl is True, \"\n",
    "         \"then you must also specify `mixture_components=1`.\")\n",
    "\n",
    "FLAGS = flags.FLAGS\n",
    "import sys\n",
    "FLAGS(sys.argv, known_only=True)"
   ]
  },
  {
   "cell_type": "code",
   "execution_count": 2,
   "metadata": {
    "collapsed": true
   },
   "outputs": [],
   "source": [
    "def plot_weight_posteriors(names, qm_vals, qs_vals, fname):\n",
    "  \"\"\"Save a PNG plot with histograms of weight means and stddevs.\n",
    "  Args:\n",
    "    names: A Python `iterable` of `str` variable names.\n",
    "    qm_vals: A Python `iterable`, the same length as `names`,\n",
    "      whose elements are Numpy `array`s, of any shape, containing\n",
    "      posterior means of weight varibles.\n",
    "    qs_vals: A Python `iterable`, the same length as `names`,\n",
    "      whose elements are Numpy `array`s, of any shape, containing\n",
    "      posterior standard deviations of weight varibles.\n",
    "    fname: Python `str` filename to save the plot to.\n",
    "  \"\"\"\n",
    "  fig = figure.Figure(figsize=(6, 3))\n",
    "  canvas = backend_agg.FigureCanvasAgg(fig)\n",
    "\n",
    "  ax = fig.add_subplot(1, 2, 1)\n",
    "  for n, qm in zip(names, qm_vals):\n",
    "    sns.distplot(qm.flatten(), ax=ax, label=n)\n",
    "  ax.set_title(\"weight means\")\n",
    "  ax.set_xlim([-1.5, 1.5])\n",
    "  ax.legend()\n",
    "\n",
    "  ax = fig.add_subplot(1, 2, 2)\n",
    "  for n, qs in zip(names, qs_vals):\n",
    "    sns.distplot(qs.flatten(), ax=ax)\n",
    "  ax.set_title(\"weight stddevs\")\n",
    "  ax.set_xlim([0, 1.])\n",
    "\n",
    "  fig.tight_layout()\n",
    "  canvas.print_figure(fname, format=\"png\")\n",
    "  print(\"saved {}\".format(fname))\n",
    "\n",
    "\n",
    "def plot_heldout_prediction(input_vals, probs,\n",
    "                            fname, n=10, title=\"\"):\n",
    "  \"\"\"Save a PNG plot visualizing posterior uncertainty on heldout data.\n",
    "  Args:\n",
    "    input_vals: A `float`-like Numpy `array` of shape\n",
    "      `[num_heldout] + IMAGE_SHAPE`, containing heldout input images.\n",
    "    probs: A `float`-like Numpy array of shape `[num_monte_carlo,\n",
    "      num_heldout, num_classes]` containing Monte Carlo samples of\n",
    "      class probabilities for each heldout sample.\n",
    "    fname: Python `str` filename to save the plot to.\n",
    "    n: Python `int` number of datapoints to vizualize.\n",
    "    title: Python `str` title for the plot.\n",
    "  \"\"\"\n",
    "  fig = figure.Figure(figsize=(9, 3*n))\n",
    "  canvas = backend_agg.FigureCanvasAgg(fig)\n",
    "  for i in range(n):\n",
    "    ax = fig.add_subplot(n, 3, 3*i + 1)\n",
    "    ax.imshow(input_vals[i, :].reshape(IMAGE_SHAPE[:-1]), interpolation=\"None\")\n",
    "\n",
    "    ax = fig.add_subplot(n, 3, 3*i + 2)\n",
    "    for prob_sample in probs:\n",
    "      sns.barplot(np.arange(10), prob_sample[i, :], alpha=0.1, ax=ax)\n",
    "      ax.set_ylim([0, 1])\n",
    "    ax.set_title(\"posterior samples\")\n",
    "\n",
    "    ax = fig.add_subplot(n, 3, 3*i + 3)\n",
    "    sns.barplot(np.arange(10), np.mean(probs[:, i, :], axis=0), ax=ax)\n",
    "    ax.set_ylim([0, 1])\n",
    "    ax.set_title(\"predictive probs\")\n",
    "  fig.suptitle(title)\n",
    "  fig.tight_layout()\n",
    "\n",
    "  canvas.print_figure(fname, format=\"png\")\n",
    "  print(\"saved {}\".format(fname))\n",
    "\n",
    "\n",
    "def build_input_pipeline(mnist_data, batch_size, heldout_size):\n",
    "  \"\"\"Build an Iterator switching between train and heldout data.\"\"\"\n",
    "\n",
    "  # Build an iterator over training batches.\n",
    "  training_dataset = tf.data.Dataset.from_tensor_slices(\n",
    "      (mnist_data.train.images, np.int32(mnist_data.train.labels)))\n",
    "  training_batches = training_dataset.shuffle(\n",
    "      50000, reshuffle_each_iteration=True).repeat().batch(batch_size)\n",
    "  training_iterator = training_batches.make_one_shot_iterator()\n",
    "\n",
    "  # Build a iterator over the heldout set with batch_size=heldout_size,\n",
    "  # i.e., return the entire heldout set as a constant.\n",
    "  heldout_dataset = tf.data.Dataset.from_tensor_slices(\n",
    "      (mnist_data.validation.images,\n",
    "       np.int32(mnist_data.validation.labels)))\n",
    "  heldout_frozen = (heldout_dataset.take(heldout_size).\n",
    "                    repeat().batch(heldout_size))\n",
    "  heldout_iterator = heldout_frozen.make_one_shot_iterator()\n",
    "\n",
    "  # Combine these into a feedable iterator that can switch between training\n",
    "  # and validation inputs.\n",
    "  handle = tf.placeholder(tf.string, shape=[])\n",
    "  feedable_iterator = tf.data.Iterator.from_string_handle(\n",
    "      handle, training_batches.output_types, training_batches.output_shapes)\n",
    "  images, labels = feedable_iterator.get_next()\n",
    "\n",
    "  return images, labels, handle, training_iterator, heldout_iterator\n",
    "\n",
    "\n",
    "def build_fake_data(num_examples=10):\n",
    "  \"\"\"Build fake MNIST-style data for unit testing.\"\"\"\n",
    "\n",
    "  class Dummy(object):\n",
    "    pass\n",
    "\n",
    "  num_examples = 10\n",
    "  mnist_data = Dummy()\n",
    "  mnist_data.train = Dummy()\n",
    "  mnist_data.train.images = np.float32(np.random.randn(\n",
    "      num_examples, *IMAGE_SHAPE))\n",
    "  mnist_data.train.labels = np.int32(np.random.permutation(\n",
    "      np.arange(num_examples)))\n",
    "  mnist_data.train.num_examples = num_examples\n",
    "  mnist_data.validation = Dummy()\n",
    "  mnist_data.validation.images = np.float32(np.random.randn(\n",
    "      num_examples, *IMAGE_SHAPE))\n",
    "  mnist_data.validation.labels = np.int32(np.random.permutation(\n",
    "      np.arange(num_examples)))\n",
    "  mnist_data.validation.num_examples = num_examples\n",
    "  return mnist_data\n"
   ]
  },
  {
   "cell_type": "code",
   "execution_count": 3,
   "metadata": {
    "collapsed": false
   },
   "outputs": [
    {
     "name": "stdout",
     "output_type": "stream",
     "text": [
      "WARNING:tensorflow:From <ipython-input-3-7fe175c1efd8>:2: read_data_sets (from tensorflow.contrib.learn.python.learn.datasets.mnist) is deprecated and will be removed in a future version.\n",
      "Instructions for updating:\n",
      "Please use alternatives such as official/mnist/dataset.py from tensorflow/models.\n",
      "WARNING:tensorflow:From /Users/karimimohammedbelhal/Desktop/ongoing/hostnfly/deeptech/lib/python2.7/site-packages/tensorflow/contrib/learn/python/learn/datasets/mnist.py:260: maybe_download (from tensorflow.contrib.learn.python.learn.datasets.base) is deprecated and will be removed in a future version.\n",
      "Instructions for updating:\n",
      "Please write your own downloading logic.\n",
      "WARNING:tensorflow:From /Users/karimimohammedbelhal/Desktop/ongoing/hostnfly/deeptech/lib/python2.7/site-packages/tensorflow/contrib/learn/python/learn/datasets/mnist.py:262: extract_images (from tensorflow.contrib.learn.python.learn.datasets.mnist) is deprecated and will be removed in a future version.\n",
      "Instructions for updating:\n",
      "Please use tf.data to implement this functionality.\n",
      "Extracting /tmp/bayesian_neural_network/data/train-images-idx3-ubyte.gz\n",
      "WARNING:tensorflow:From /Users/karimimohammedbelhal/Desktop/ongoing/hostnfly/deeptech/lib/python2.7/site-packages/tensorflow/contrib/learn/python/learn/datasets/mnist.py:267: extract_labels (from tensorflow.contrib.learn.python.learn.datasets.mnist) is deprecated and will be removed in a future version.\n",
      "Instructions for updating:\n",
      "Please use tf.data to implement this functionality.\n",
      "Extracting /tmp/bayesian_neural_network/data/train-labels-idx1-ubyte.gz\n",
      "Extracting /tmp/bayesian_neural_network/data/t10k-images-idx3-ubyte.gz\n",
      "Extracting /tmp/bayesian_neural_network/data/t10k-labels-idx1-ubyte.gz\n",
      "WARNING:tensorflow:From /Users/karimimohammedbelhal/Desktop/ongoing/hostnfly/deeptech/lib/python2.7/site-packages/tensorflow/contrib/learn/python/learn/datasets/mnist.py:290: __init__ (from tensorflow.contrib.learn.python.learn.datasets.mnist) is deprecated and will be removed in a future version.\n",
      "Instructions for updating:\n",
      "Please use alternatives such as official/mnist/dataset.py from tensorflow/models.\n"
     ]
    }
   ],
   "source": [
    "tf.gfile.MakeDirs(FLAGS.model_dir)\n",
    "mnist_data = mnist.read_data_sets(FLAGS.data_dir, reshape=False)"
   ]
  },
  {
   "cell_type": "code",
   "execution_count": 4,
   "metadata": {
    "collapsed": true
   },
   "outputs": [],
   "source": [
    "(images, labels, handle,\n",
    "   training_iterator, heldout_iterator) = build_input_pipeline(\n",
    "       mnist_data, FLAGS.batch_size, mnist_data.validation.num_examples)"
   ]
  },
  {
   "cell_type": "code",
   "execution_count": 5,
   "metadata": {
    "collapsed": true
   },
   "outputs": [],
   "source": [
    "with tf.name_scope(\"bayesian_neural_net\", values=[images]):\n",
    "    neural_net = tf.keras.Sequential([\n",
    "        tfp.layers.Convolution2DFlipout(6,\n",
    "                                        kernel_size=5,\n",
    "                                        padding=\"SAME\",\n",
    "                                        activation=tf.nn.relu),\n",
    "        tf.keras.layers.MaxPooling2D(pool_size=[2, 2],\n",
    "                                     strides=[2, 2],\n",
    "                                     padding=\"SAME\"),\n",
    "        tfp.layers.Convolution2DFlipout(16,\n",
    "                                        kernel_size=5,\n",
    "                                        padding=\"SAME\",\n",
    "                                        activation=tf.nn.relu),\n",
    "        tf.keras.layers.MaxPooling2D(pool_size=[2, 2],\n",
    "                                     strides=[2, 2],\n",
    "                                     padding=\"SAME\"),\n",
    "        tfp.layers.Convolution2DFlipout(120,\n",
    "                                        kernel_size=5,\n",
    "                                        padding=\"SAME\",\n",
    "                                        activation=tf.nn.relu),\n",
    "        tf.keras.layers.Flatten(),\n",
    "        tfp.layers.DenseFlipout(84, activation=tf.nn.relu),\n",
    "        tfp.layers.DenseFlipout(10)\n",
    "        ])\n",
    "\n",
    "    logits = neural_net(images)\n",
    "    labels_distribution = tfd.Categorical(logits=logits)\n"
   ]
  },
  {
   "cell_type": "code",
   "execution_count": 6,
   "metadata": {
    "collapsed": true
   },
   "outputs": [],
   "source": [
    "neg_log_likelihood = -tf.reduce_mean(labels_distribution.log_prob(labels))\n",
    "kl = sum(neural_net.losses) / mnist_data.train.num_examples\n",
    "elbo_loss = neg_log_likelihood + kl\n",
    "\n",
    "# Build metrics for evaluation. Predictions are formed from a single forward\n",
    "# pass of the probabilistic layers. They are cheap but noisy predictions.\n",
    "predictions = tf.argmax(logits, axis=1)\n",
    "accuracy, accuracy_update_op = tf.metrics.accuracy(\n",
    "      labels=labels, predictions=predictions)"
   ]
  },
  {
   "cell_type": "markdown",
   "metadata": {},
   "source": [
    "# ADAM"
   ]
  },
  {
   "cell_type": "code",
   "execution_count": 7,
   "metadata": {
    "collapsed": true
   },
   "outputs": [],
   "source": [
    "names = []\n",
    "qmeans = []\n",
    "qstds = []\n",
    "for i, layer in enumerate(neural_net.layers):\n",
    "    try:\n",
    "        q = layer.kernel_posterior\n",
    "    except AttributeError:\n",
    "        continue\n",
    "    names.append(\"Layer {}\".format(i))\n",
    "    qmeans.append(q.mean())\n",
    "    qstds.append(q.stddev())\n",
    "\n",
    "with tf.name_scope(\"train\"):\n",
    "    optimizer = tf.train.AdamOptimizer(learning_rate=FLAGS.learning_rate)\n",
    "    train_op = optimizer.minimize(elbo_loss)\n",
    "\n",
    "init_op = tf.group(tf.global_variables_initializer(),\n",
    "                     tf.local_variables_initializer())"
   ]
  },
  {
   "cell_type": "code",
   "execution_count": 8,
   "metadata": {
    "collapsed": true
   },
   "outputs": [],
   "source": [
    "sess = tf.Session()"
   ]
  },
  {
   "cell_type": "code",
   "execution_count": 11,
   "metadata": {
    "collapsed": true
   },
   "outputs": [],
   "source": [
    "lossadam = []"
   ]
  },
  {
   "cell_type": "code",
   "execution_count": 12,
   "metadata": {
    "collapsed": true
   },
   "outputs": [
    {
     "name": "stdout",
     "output_type": "stream",
     "text": [
      "Step:   0 Loss: 28.120 Accuracy: 0.078\n",
      "Step:  10 Loss: 27.252 Accuracy: 0.129\n",
      "Step:  20 Loss: 27.097 Accuracy: 0.177\n",
      "Step:  30 Loss: 26.819 Accuracy: 0.228\n",
      "Step:  40 Loss: 26.282 Accuracy: 0.289\n",
      "Step:  50 Loss: 25.739 Accuracy: 0.347\n",
      "Step:  60 Loss: 25.765 Accuracy: 0.400\n",
      "Step:  70 Loss: 25.416 Accuracy: 0.441\n",
      "Step:  80 Loss: 25.379 Accuracy: 0.481\n",
      "Step:  90 Loss: 25.075 Accuracy: 0.517\n",
      "Step: 100 Loss: 25.082 Accuracy: 0.548\n",
      "Step: 110 Loss: 25.008 Accuracy: 0.575\n",
      "Step: 120 Loss: 24.868 Accuracy: 0.598\n",
      "Step: 130 Loss: 24.701 Accuracy: 0.617\n",
      "Step: 140 Loss: 24.823 Accuracy: 0.635\n",
      "Step: 150 Loss: 24.543 Accuracy: 0.652\n",
      "Step: 160 Loss: 24.641 Accuracy: 0.666\n",
      "Step: 170 Loss: 24.394 Accuracy: 0.680\n",
      "Step: 180 Loss: 24.377 Accuracy: 0.692\n",
      "Step: 190 Loss: 24.300 Accuracy: 0.703\n",
      "Step: 200 Loss: 24.268 Accuracy: 0.713\n",
      "Step: 210 Loss: 24.133 Accuracy: 0.722\n",
      "Step: 220 Loss: 24.147 Accuracy: 0.730\n",
      "Step: 230 Loss: 24.242 Accuracy: 0.738\n",
      "Step: 240 Loss: 24.002 Accuracy: 0.745\n",
      "Step: 250 Loss: 23.962 Accuracy: 0.753\n",
      "Step: 260 Loss: 23.881 Accuracy: 0.759\n",
      "Step: 270 Loss: 23.790 Accuracy: 0.766\n",
      "Step: 280 Loss: 23.699 Accuracy: 0.771\n",
      "Step: 290 Loss: 23.687 Accuracy: 0.777\n"
     ]
    }
   ],
   "source": [
    "sess.run(init_op)\n",
    "\n",
    "# Run the training loop.\n",
    "train_handle = sess.run(training_iterator.string_handle())\n",
    "heldout_handle = sess.run(heldout_iterator.string_handle())\n",
    "for step in range(FLAGS.max_steps):\n",
    "    _ = sess.run([train_op, accuracy_update_op],\n",
    "                   feed_dict={handle: train_handle})\n",
    "    if step % 10 == 0:\n",
    "        loss_value, accuracy_value = sess.run(\n",
    "            [elbo_loss, accuracy], feed_dict={handle: train_handle})\n",
    "        lossadam.append(loss_value)\n",
    "        print(\"Step: {:>3d} Loss: {:.3f} Accuracy: {:.3f}\".format(\n",
    "            step, loss_value, accuracy_value))"
   ]
  },
  {
   "cell_type": "markdown",
   "metadata": {},
   "source": [
    "# BBB"
   ]
  },
  {
   "cell_type": "code",
   "execution_count": 28,
   "metadata": {
    "collapsed": true
   },
   "outputs": [],
   "source": [
    "names = []\n",
    "qmeans = []\n",
    "qstds = []\n",
    "for i, layer in enumerate(neural_net.layers):\n",
    "    try:\n",
    "        q = layer.kernel_posterior\n",
    "    except AttributeError:\n",
    "        continue\n",
    "    names.append(\"Layer {}\".format(i))\n",
    "    qmeans.append(q.mean())\n",
    "    qstds.append(q.stddev())\n",
    "\n",
    "with tf.name_scope(\"train\"):\n",
    "    optimizer = tf.train.GradientDescentOptimizer(learning_rate=FLAGS.learning_rate)\n",
    "    train_op = optimizer.minimize(elbo_loss)\n",
    "\n",
    "init_op = tf.group(tf.global_variables_initializer(),\n",
    "                     tf.local_variables_initializer())\n",
    "sess = tf.Session()\n",
    "losssgd = []"
   ]
  },
  {
   "cell_type": "code",
   "execution_count": 30,
   "metadata": {
    "collapsed": false
   },
   "outputs": [
    {
     "name": "stdout",
     "output_type": "stream",
     "text": [
      "Step:   0 Loss: 28.785 Accuracy: 0.125\n",
      "Step:  10 Loss: 28.169 Accuracy: 0.085\n",
      "Step:  20 Loss: 28.084 Accuracy: 0.090\n",
      "Step:  30 Loss: 27.717 Accuracy: 0.085\n",
      "Step:  40 Loss: 27.662 Accuracy: 0.089\n",
      "Step:  50 Loss: 27.740 Accuracy: 0.089\n",
      "Step:  60 Loss: 27.693 Accuracy: 0.091\n",
      "Step:  70 Loss: 27.549 Accuracy: 0.091\n",
      "Step:  80 Loss: 27.498 Accuracy: 0.092\n",
      "Step:  90 Loss: 27.646 Accuracy: 0.091\n",
      "Step: 100 Loss: 27.635 Accuracy: 0.092\n",
      "Step: 110 Loss: 27.519 Accuracy: 0.093\n",
      "Step: 120 Loss: 27.430 Accuracy: 0.094\n",
      "Step: 130 Loss: 27.528 Accuracy: 0.094\n",
      "Step: 140 Loss: 27.476 Accuracy: 0.094\n",
      "Step: 150 Loss: 27.513 Accuracy: 0.095\n",
      "Step: 160 Loss: 27.474 Accuracy: 0.095\n",
      "Step: 170 Loss: 27.474 Accuracy: 0.095\n",
      "Step: 180 Loss: 27.477 Accuracy: 0.096\n",
      "Step: 190 Loss: 27.504 Accuracy: 0.096\n",
      "Step: 200 Loss: 27.451 Accuracy: 0.096\n",
      "Step: 210 Loss: 27.419 Accuracy: 0.096\n",
      "Step: 220 Loss: 27.438 Accuracy: 0.096\n",
      "Step: 230 Loss: 27.387 Accuracy: 0.097\n",
      "Step: 240 Loss: 27.422 Accuracy: 0.097\n",
      "Step: 250 Loss: 27.451 Accuracy: 0.098\n",
      "Step: 260 Loss: 27.425 Accuracy: 0.097\n",
      "Step: 270 Loss: 27.467 Accuracy: 0.098\n",
      "Step: 280 Loss: 27.404 Accuracy: 0.099\n",
      "Step: 290 Loss: 27.401 Accuracy: 0.099\n"
     ]
    }
   ],
   "source": [
    "sess.run(init_op)\n",
    "\n",
    "# Run the training loop.\n",
    "train_handle = sess.run(training_iterator.string_handle())\n",
    "heldout_handle = sess.run(heldout_iterator.string_handle())\n",
    "for step in range(FLAGS.max_steps):\n",
    "    _ = sess.run([train_op, accuracy_update_op],\n",
    "                   feed_dict={handle: train_handle})\n",
    "    if step % 10 == 0:\n",
    "        loss_value, accuracy_value = sess.run(\n",
    "            [elbo_loss, accuracy], feed_dict={handle: train_handle})\n",
    "        losssgd.append(loss_value)\n",
    "        print(\"Step: {:>3d} Loss: {:.3f} Accuracy: {:.3f}\".format(\n",
    "            step, loss_value, accuracy_value))"
   ]
  },
  {
   "cell_type": "code",
   "execution_count": null,
   "metadata": {
    "collapsed": true
   },
   "outputs": [],
   "source": []
  },
  {
   "cell_type": "code",
   "execution_count": null,
   "metadata": {
    "collapsed": true
   },
   "outputs": [],
   "source": []
  },
  {
   "cell_type": "markdown",
   "metadata": {},
   "source": [
    "# PLOTS"
   ]
  },
  {
   "cell_type": "code",
   "execution_count": 31,
   "metadata": {
    "collapsed": true
   },
   "outputs": [],
   "source": [
    "def display_draws(loss, train_x, EPOCH_NUM):\n",
    "    fig, axes = plt.subplots(nrows=1, ncols=1, figsize=(16, 3.5))\n",
    "    plt.plot(np.arange(EPOCH_NUM), loss, label='Train')\n",
    "    plt.legend(fontsize=20)\n",
    "    plt.xlabel('Epoch', fontsize=15)\n",
    "    plt.ylabel('Negated ELBO', fontsize=15)\n",
    "    plt.show()"
   ]
  },
  {
   "cell_type": "code",
   "execution_count": 32,
   "metadata": {
    "collapsed": true
   },
   "outputs": [],
   "source": [
    "X_batch, Y_batch = mnist_data.train.next_batch(FLAGS.batch_size)"
   ]
  },
  {
   "cell_type": "code",
   "execution_count": 33,
   "metadata": {
    "collapsed": false
   },
   "outputs": [
    {
     "data": {
      "image/png": "[encoded data removed]",
      "text/plain": [
       "<matplotlib.figure.Figure at 0x1378e8d50>"
      ]
     },
     "metadata": {},
     "output_type": "display_data"
    }
   ],
   "source": [
    "display_draws(lossadam, X_batch, len(lossadam))"
   ]
  },
  {
   "cell_type": "code",
   "execution_count": 34,
   "metadata": {
    "collapsed": false
   },
   "outputs": [
    {
     "data": {
      "image/png": "[encoded data removed]",
      "text/plain": [
       "<matplotlib.figure.Figure at 0x12c84b550>"
      ]
     },
     "metadata": {},
     "output_type": "display_data"
    }
   ],
   "source": [
    "display_draws(losssgd, X_batch, len(lossadam))"
   ]
  },
  {
   "cell_type": "code",
   "execution_count": 35,
   "metadata": {
    "collapsed": false
   },
   "outputs": [
    {
     "data": {
      "image/png": "[encoded data removed]",
      "text/plain": [
       "<matplotlib.figure.Figure at 0x124749cd0>"
      ]
     },
     "metadata": {},
     "output_type": "display_data"
    }
   ],
   "source": [
    "fig, axes = plt.subplots(nrows=1, ncols=1, figsize=(16, 3.5))\n",
    "plt.plot(np.arange(len(lossadam)), lossadam, label='ADAM')\n",
    "plt.plot(np.arange(len(lossadam)), losssgd, label='BBB')\n",
    "leg = plt.legend(fontsize=20,fancybox=True, loc='right')\n",
    "leg.get_frame().set_alpha(0.5)\n",
    "plt.xlabel('Epoch', fontsize=15)\n",
    "plt.ylabel('Negated ELBO', fontsize=15)\n",
    "plt.show()"
   ]
  },
  {
   "cell_type": "code",
   "execution_count": null,
   "metadata": {
    "collapsed": true
   },
   "outputs": [],
   "source": []
  }
 ],
 "metadata": {
  "kernelspec": {
   "display_name": "deeptech",
   "language": "python",
   "name": "deeptech"
  },
  "language_info": {
   "codemirror_mode": {
    "name": "ipython",
    "version": 2
   },
   "file_extension": ".py",
   "mimetype": "text/x-python",
   "name": "python",
   "nbconvert_exporter": "python",
   "pygments_lexer": "ipython2",
   "version": "2.7.10"
  }
 },
 "nbformat": 4,
 "nbformat_minor": 2
}
