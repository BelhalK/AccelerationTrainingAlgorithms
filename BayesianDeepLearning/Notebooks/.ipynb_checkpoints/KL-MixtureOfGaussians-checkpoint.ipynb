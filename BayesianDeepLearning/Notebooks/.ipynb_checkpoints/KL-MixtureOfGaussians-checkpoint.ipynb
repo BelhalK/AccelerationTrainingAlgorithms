{
 "cells": [
  {
   "cell_type": "code",
   "execution_count": 8,
   "metadata": {
    "collapsed": true
   },
   "outputs": [],
   "source": [
    "import warnings\n",
    "warnings.simplefilter(action=\"ignore\")"
   ]
  },
  {
   "cell_type": "code",
   "execution_count": 9,
   "metadata": {
    "collapsed": false
   },
   "outputs": [],
   "source": [
    "import matplotlib.pyplot as plt\n",
    "import matplotlib\n",
    "%matplotlib inline\n",
    "matplotlib.use(\"Agg\")\n",
    "from matplotlib import figure  # pylint: disable=g-import-not-at-top\n",
    "from matplotlib.backends import backend_agg\n",
    "import numpy as np\n",
    "import tensorflow as tf\n",
    "import tensorflow_probability as tfp\n",
    "try:\n",
    "  import seaborn as sns  # pylint: disable=g-import-not-at-top\n",
    "  HAS_SEABORN = True\n",
    "except ImportError:\n",
    "  HAS_SEABORN = False\n",
    "\n",
    "tfd = tfp.distributions"
   ]
  },
  {
   "cell_type": "code",
   "execution_count": 15,
   "metadata": {
    "collapsed": false
   },
   "outputs": [],
   "source": [
    "A =tfd.Normal( loc=[1., -1],scale=[1, 2.])\n",
    "B =tfd.Normal( loc=[1., -1],scale=[1, 2.])\n",
    "C = tfd.MixtureSameFamily(\n",
    "    mixture_distribution=tfd.Categorical(\n",
    "        probs=[0.3, 0.7]),\n",
    "    components_distribution=tfd.Normal(\n",
    "      loc=[-1., 1],       # One for each component.\n",
    "      scale=[0.1, 0.5]))  # And same here.\n",
    "D = tfd.MixtureSameFamily(\n",
    "    mixture_distribution=tfd.Categorical(\n",
    "        probs=[0.3, 0.7]),\n",
    "    components_distribution=tfd.Normal(\n",
    "      loc=[-1., 1],       # One for each component.\n",
    "      scale=[0.1, 0.5]))  # And same here."
   ]
  },
  {
   "cell_type": "code",
   "execution_count": 39,
   "metadata": {
    "collapsed": false
   },
   "outputs": [
    {
     "data": {
      "text/plain": [
       "<tf.Tensor 'KullbackLeibler_4/kl_normal_normal/add:0' shape=(2,) dtype=float32>"
      ]
     },
     "execution_count": 39,
     "metadata": {},
     "output_type": "execute_result"
    }
   ],
   "source": [
    "tf.distributions.kl_divergence(A, B)"
   ]
  },
  {
   "cell_type": "code",
   "execution_count": 24,
   "metadata": {
    "collapsed": true
   },
   "outputs": [],
   "source": [
    "mu_p = 1.\n",
    "sigma_p = 1.\n",
    "mu_q = 0.\n",
    "sigma_q = 2.\n",
    "p = tf.distributions.Normal(loc=mu_p, scale=sigma_p)\n",
    "q = tf.distributions.Normal(loc=mu_q, scale=sigma_q)"
   ]
  },
  {
   "cell_type": "code",
   "execution_count": 40,
   "metadata": {
    "collapsed": true
   },
   "outputs": [],
   "source": [
    "mc_samples = 2"
   ]
  },
  {
   "cell_type": "code",
   "execution_count": 41,
   "metadata": {
    "collapsed": true
   },
   "outputs": [],
   "source": [
    "sess = tf.InteractiveSession()"
   ]
  },
  {
   "cell_type": "code",
   "execution_count": 42,
   "metadata": {
    "collapsed": false
   },
   "outputs": [],
   "source": [
    "x_p = p.sample(sample_shape=(mc_samples,)).eval()\n",
    "x_q = q.sample(sample_shape=(mc_samples,)).eval()"
   ]
  },
  {
   "cell_type": "code",
   "execution_count": 43,
   "metadata": {
    "collapsed": true
   },
   "outputs": [],
   "source": [
    "mixture_prob = lambda x, p, q: .5 * (p.prob(x) + q.prob(x))"
   ]
  },
  {
   "cell_type": "code",
   "execution_count": 44,
   "metadata": {
    "collapsed": false
   },
   "outputs": [],
   "source": [
    "def kl_mixture(x, p1, p2): \n",
    "    return p1.log_prob(x) - tf.log(mixture_prob(x, p1, p2))"
   ]
  },
  {
   "cell_type": "code",
   "execution_count": 45,
   "metadata": {
    "collapsed": false
   },
   "outputs": [
    {
     "data": {
      "text/plain": [
       "<tf.Tensor 'sub_1:0' shape=(2,) dtype=float32>"
      ]
     },
     "execution_count": 45,
     "metadata": {},
     "output_type": "execute_result"
    }
   ],
   "source": [
    "kl_mixture(x_p, p ,q )"
   ]
  },
  {
   "cell_type": "code",
   "execution_count": null,
   "metadata": {
    "collapsed": true
   },
   "outputs": [],
   "source": []
  },
  {
   "cell_type": "code",
   "execution_count": null,
   "metadata": {
    "collapsed": true
   },
   "outputs": [],
   "source": []
  },
  {
   "cell_type": "code",
   "execution_count": 14,
   "metadata": {
    "collapsed": false
   },
   "outputs": [],
   "source": [
    "def make_mixture_posterior_fn(mixture_components):\n",
    "  \"\"\"Creates the mixture of Gaussians posterior distribution.\n",
    "  Args:\n",
    "    mixture_components: Number of elements of the mixture.\n",
    "  Returns:\n",
    "    random_posterior_fn: A callable like tfp.layers.default_multivariate_normal_fn which returns an instance of a posterior distribution.\n",
    "  \"\"\"\n",
    "  if mixture_components == 1:\n",
    "    # See the module docstring for why we don't learn the parameters here.\n",
    "    # default_mvn_fn returns a standard non-trainable MVN\n",
    "    return tfp.layers.default_multivariate_normal_fn\n",
    "\n",
    "  def _random_posterior_fn(dtype, shape, name, trainable, add_variable_fn):\n",
    "    # signature matches tfp.layers.default_multivariate_normal_fn\n",
    "#    loc = add_variable_fn(\n",
    "#       name=name + \"/loc\", shape=[mixture_components,] + list(shape),  trainable=trainable)\n",
    "#    raw_scale_diag = add_variable_fn(\n",
    "#       name=name+\"/scale\", shape=[mixture_components,] + list(shape), trainable=trainable)\n",
    "    loc = add_variable_fn(\n",
    "        name=name + \"/loc\", shape=list(shape) + [mixture_components,],  trainable=trainable)\n",
    "    raw_scale_diag = add_variable_fn(\n",
    "        name=name+\"/scale\", shape=list(shape) + [mixture_components,], trainable=trainable)\n",
    "    mixture_logits = add_variable_fn(\n",
    "        name=name+\"/logit\", shape=[mixture_components], trainable=trainable)\n",
    "\n",
    "    return tfd.MixtureSameFamily(\n",
    "        components_distribution=tfd.MultivariateNormalDiag(\n",
    "            loc=loc,\n",
    "            scale_diag=tf.nn.softplus(raw_scale_diag)),\n",
    "        mixture_distribution=tfd.Categorical(logits=mixture_logits),\n",
    "        name=\"posterior\")\n",
    "  return _random_posterior_fn"
   ]
  },
  {
   "cell_type": "code",
   "execution_count": null,
   "metadata": {
    "collapsed": true
   },
   "outputs": [],
   "source": []
  },
  {
   "cell_type": "code",
   "execution_count": null,
   "metadata": {
    "collapsed": true
   },
   "outputs": [],
   "source": []
  }
 ],
 "metadata": {
  "kernelspec": {
   "display_name": "deeptech",
   "language": "python",
   "name": "deeptech"
  },
  "language_info": {
   "codemirror_mode": {
    "name": "ipython",
    "version": 2
   },
   "file_extension": ".py",
   "mimetype": "text/x-python",
   "name": "python",
   "nbconvert_exporter": "python",
   "pygments_lexer": "ipython2",
   "version": "2.7.10"
  }
 },
 "nbformat": 4,
 "nbformat_minor": 2
}
